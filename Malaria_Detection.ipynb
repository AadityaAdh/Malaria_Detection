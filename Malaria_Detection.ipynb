{
  "nbformat": 4,
  "nbformat_minor": 0,
  "metadata": {
    "colab": {
      "provenance": [],
      "gpuType": "T4",
      "authorship_tag": "ABX9TyObA1PP+MFwmxYS8qGKka+L",
      "include_colab_link": true
    },
    "kernelspec": {
      "name": "python3",
      "display_name": "Python 3"
    },
    "language_info": {
      "name": "python"
    },
    "accelerator": "GPU"
  },
  "cells": [
    {
      "cell_type": "markdown",
      "metadata": {
        "id": "view-in-github",
        "colab_type": "text"
      },
      "source": [
        "<a href=\"https://colab.research.google.com/github/AadityaAdh/Malaria_Detection/blob/main/Malaria_Detection.ipynb\" target=\"_parent\"><img src=\"https://colab.research.google.com/assets/colab-badge.svg\" alt=\"Open In Colab\"/></a>"
      ]
    },
    {
      "cell_type": "code",
      "execution_count": null,
      "metadata": {
        "id": "VSMVZRoy3D3l"
      },
      "outputs": [],
      "source": [
        "import tensorflow as tf\n",
        "import numpy as np\n",
        "import matplotlib.pyplot as plt\n",
        "import tensorflow_datasets as tfds\n",
        "#tyo malarial ko img file download na garni\n",
        "#siddai tensorflow lae yo module bata access garna dinxa"
      ]
    },
    {
      "cell_type": "code",
      "source": [
        "dataset,dataset_info=tfds.load('malaria',with_info=True)"
      ],
      "metadata": {
        "id": "ro1Dn_ZN3ekz"
      },
      "execution_count": null,
      "outputs": []
    },
    {
      "cell_type": "code",
      "source": [
        "dataset_info"
      ],
      "metadata": {
        "colab": {
          "base_uri": "https://localhost:8080/"
        },
        "id": "uO8ZsBgf6lr2",
        "outputId": "4796c7ae-c293-4248-e8af-d48316d3a640"
      },
      "execution_count": null,
      "outputs": [
        {
          "output_type": "execute_result",
          "data": {
            "text/plain": [
              "tfds.core.DatasetInfo(\n",
              "    name='malaria',\n",
              "    full_name='malaria/1.0.0',\n",
              "    description=\"\"\"\n",
              "    The Malaria dataset contains a total of 27,558 cell images with equal instances\n",
              "    of parasitized and uninfected cells from the thin blood smear slide images of\n",
              "    segmented cells.\n",
              "    \"\"\",\n",
              "    homepage='https://lhncbc.nlm.nih.gov/publication/pub9932',\n",
              "    data_dir='/root/tensorflow_datasets/malaria/1.0.0',\n",
              "    file_format=tfrecord,\n",
              "    download_size=337.08 MiB,\n",
              "    dataset_size=317.62 MiB,\n",
              "    features=FeaturesDict({\n",
              "        'image': Image(shape=(None, None, 3), dtype=uint8),\n",
              "        'label': ClassLabel(shape=(), dtype=int64, num_classes=2),\n",
              "    }),\n",
              "    supervised_keys=('image', 'label'),\n",
              "    disable_shuffling=False,\n",
              "    splits={\n",
              "        'train': <SplitInfo num_examples=27558, num_shards=4>,\n",
              "    },\n",
              "    citation=\"\"\"@article{rajaraman2018pre,\n",
              "      title={Pre-trained convolutional neural networks as feature extractors toward\n",
              "      improved malaria parasite detection in thin blood smear images},\n",
              "      author={Rajaraman, Sivaramakrishnan and Antani, Sameer K and Poostchi, Mahdieh\n",
              "      and Silamut, Kamolrat and Hossain, Md A and Maude, Richard J and Jaeger,\n",
              "      Stefan and Thoma, George R},\n",
              "      journal={PeerJ},\n",
              "      volume={6},\n",
              "      pages={e4568},\n",
              "      year={2018},\n",
              "      publisher={PeerJ Inc.}\n",
              "    }\"\"\",\n",
              ")"
            ]
          },
          "metadata": {},
          "execution_count": 3
        }
      ]
    },
    {
      "cell_type": "code",
      "source": [
        "\n",
        "\n",
        "# Creating a dataset with 2 elements\n",
        "#maybe this is representation\n",
        "dataset1 = tf.data.Dataset.from_tensor_slices({\n",
        "    'sample1': {'image': [1,1,1], 'label': [1,0,0]},\n",
        "    'sample2': {'image': [2,2,2], 'label': [0,0,0]}\n",
        "})"
      ],
      "metadata": {
        "id": "iHddZZqvH67h"
      },
      "execution_count": null,
      "outputs": []
    },
    {
      "cell_type": "code",
      "source": [
        "dataset.keys()"
      ],
      "metadata": {
        "id": "TH84hLLtVPjf",
        "colab": {
          "base_uri": "https://localhost:8080/"
        },
        "outputId": "9d5ae398-945d-4f1b-c5d4-1655329bab31"
      },
      "execution_count": null,
      "outputs": [
        {
          "output_type": "execute_result",
          "data": {
            "text/plain": [
              "dict_keys(['train'])"
            ]
          },
          "metadata": {},
          "execution_count": 5
        }
      ]
    },
    {
      "cell_type": "code",
      "source": [
        "d1=dataset['train']\n"
      ],
      "metadata": {
        "id": "GhKqD52GTavO"
      },
      "execution_count": null,
      "outputs": []
    },
    {
      "cell_type": "code",
      "source": [
        "type(d1)"
      ],
      "metadata": {
        "colab": {
          "base_uri": "https://localhost:8080/"
        },
        "id": "nK_D0N-sdOq2",
        "outputId": "24fcfd28-fd8d-4018-b5df-abfb17d5dbf9"
      },
      "execution_count": null,
      "outputs": [
        {
          "output_type": "execute_result",
          "data": {
            "text/plain": [
              "tensorflow.python.data.ops.prefetch_op._PrefetchDataset"
            ]
          },
          "metadata": {},
          "execution_count": 7
        }
      ]
    },
    {
      "cell_type": "code",
      "source": [
        "d1"
      ],
      "metadata": {
        "colab": {
          "base_uri": "https://localhost:8080/"
        },
        "id": "5asGHOSDdRz-",
        "outputId": "8725ca5c-227a-4bd9-da69-114e0f604a52"
      },
      "execution_count": null,
      "outputs": [
        {
          "output_type": "execute_result",
          "data": {
            "text/plain": [
              "<_PrefetchDataset element_spec={'image': TensorSpec(shape=(None, None, 3), dtype=tf.uint8, name=None), 'label': TensorSpec(shape=(), dtype=tf.int64, name=None)}>"
            ]
          },
          "metadata": {},
          "execution_count": 8
        }
      ]
    },
    {
      "cell_type": "code",
      "source": [
        "len(d1)"
      ],
      "metadata": {
        "colab": {
          "base_uri": "https://localhost:8080/"
        },
        "id": "Q1v6iqBvdU9-",
        "outputId": "55b895c5-ec1c-4b79-9291-de9eab32e2a7"
      },
      "execution_count": null,
      "outputs": [
        {
          "output_type": "execute_result",
          "data": {
            "text/plain": [
              "27558"
            ]
          },
          "metadata": {},
          "execution_count": 9
        }
      ]
    },
    {
      "cell_type": "code",
      "source": [
        "#so use for loop for iterating whatever with many elements\n",
        "for element in d1.take(1):\n",
        "  print(element)"
      ],
      "metadata": {
        "colab": {
          "base_uri": "https://localhost:8080/"
        },
        "id": "TNdMbb-bd1p4",
        "outputId": "a6403059-02d8-4026-ebf8-a31d966c4cb6"
      },
      "execution_count": null,
      "outputs": [
        {
          "output_type": "stream",
          "name": "stdout",
          "text": [
            "{'image': <tf.Tensor: shape=(103, 103, 3), dtype=uint8, numpy=\n",
            "array([[[0, 0, 0],\n",
            "        [0, 0, 0],\n",
            "        [0, 0, 0],\n",
            "        ...,\n",
            "        [0, 0, 0],\n",
            "        [0, 0, 0],\n",
            "        [0, 0, 0]],\n",
            "\n",
            "       [[0, 0, 0],\n",
            "        [0, 0, 0],\n",
            "        [0, 0, 0],\n",
            "        ...,\n",
            "        [0, 0, 0],\n",
            "        [0, 0, 0],\n",
            "        [0, 0, 0]],\n",
            "\n",
            "       [[0, 0, 0],\n",
            "        [0, 0, 0],\n",
            "        [0, 0, 0],\n",
            "        ...,\n",
            "        [0, 0, 0],\n",
            "        [0, 0, 0],\n",
            "        [0, 0, 0]],\n",
            "\n",
            "       ...,\n",
            "\n",
            "       [[0, 0, 0],\n",
            "        [0, 0, 0],\n",
            "        [0, 0, 0],\n",
            "        ...,\n",
            "        [0, 0, 0],\n",
            "        [0, 0, 0],\n",
            "        [0, 0, 0]],\n",
            "\n",
            "       [[0, 0, 0],\n",
            "        [0, 0, 0],\n",
            "        [0, 0, 0],\n",
            "        ...,\n",
            "        [0, 0, 0],\n",
            "        [0, 0, 0],\n",
            "        [0, 0, 0]],\n",
            "\n",
            "       [[0, 0, 0],\n",
            "        [0, 0, 0],\n",
            "        [0, 0, 0],\n",
            "        ...,\n",
            "        [0, 0, 0],\n",
            "        [0, 0, 0],\n",
            "        [0, 0, 0]]], dtype=uint8)>, 'label': <tf.Tensor: shape=(), dtype=int64, numpy=1>}\n"
          ]
        }
      ]
    },
    {
      "cell_type": "code",
      "source": [
        "#image ko value ra label ko value dictionary ko form ma raixa\n",
        "#tyo tensorflow ko data type vitra\n",
        "for element in d1.take(1):\n",
        "  print(type(element))"
      ],
      "metadata": {
        "colab": {
          "base_uri": "https://localhost:8080/"
        },
        "id": "tFABT7s0d6nV",
        "outputId": "6c7ec685-acc1-40f1-d47f-68b708c881d5"
      },
      "execution_count": null,
      "outputs": [
        {
          "output_type": "stream",
          "name": "stdout",
          "text": [
            "<class 'dict'>\n"
          ]
        }
      ]
    },
    {
      "cell_type": "markdown",
      "source": [
        "#so data structure here is\n",
        "    dictionary with keys\n",
        "    --tensordataset\n",
        "    ------dictionary with keys images and labels\n",
        "so this is alredy dataset with x(images) values and y values(labels)"
      ],
      "metadata": {
        "id": "sQhF1XZFhtSJ"
      }
    },
    {
      "cell_type": "code",
      "source": [
        "for element in d1.take(1):\n",
        "  print(element.keys())"
      ],
      "metadata": {
        "colab": {
          "base_uri": "https://localhost:8080/"
        },
        "id": "Ew5QtahhgMaG",
        "outputId": "5eee523c-24da-471a-9840-45ee79b84500"
      },
      "execution_count": null,
      "outputs": [
        {
          "output_type": "stream",
          "name": "stdout",
          "text": [
            "dict_keys(['image', 'label'])\n"
          ]
        }
      ]
    },
    {
      "cell_type": "code",
      "source": [
        "for element in d1.take(1):\n",
        "  print(element['image'])"
      ],
      "metadata": {
        "colab": {
          "base_uri": "https://localhost:8080/"
        },
        "id": "ht_-Hxw7gIcb",
        "outputId": "2c0205ec-f253-4a32-ae05-f8f4421f42c7"
      },
      "execution_count": null,
      "outputs": [
        {
          "output_type": "stream",
          "name": "stdout",
          "text": [
            "tf.Tensor(\n",
            "[[[0 0 0]\n",
            "  [0 0 0]\n",
            "  [0 0 0]\n",
            "  ...\n",
            "  [0 0 0]\n",
            "  [0 0 0]\n",
            "  [0 0 0]]\n",
            "\n",
            " [[0 0 0]\n",
            "  [0 0 0]\n",
            "  [0 0 0]\n",
            "  ...\n",
            "  [0 0 0]\n",
            "  [0 0 0]\n",
            "  [0 0 0]]\n",
            "\n",
            " [[0 0 0]\n",
            "  [0 0 0]\n",
            "  [0 0 0]\n",
            "  ...\n",
            "  [0 0 0]\n",
            "  [0 0 0]\n",
            "  [0 0 0]]\n",
            "\n",
            " ...\n",
            "\n",
            " [[0 0 0]\n",
            "  [0 0 0]\n",
            "  [0 0 0]\n",
            "  ...\n",
            "  [0 0 0]\n",
            "  [0 0 0]\n",
            "  [0 0 0]]\n",
            "\n",
            " [[0 0 0]\n",
            "  [0 0 0]\n",
            "  [0 0 0]\n",
            "  ...\n",
            "  [0 0 0]\n",
            "  [0 0 0]\n",
            "  [0 0 0]]\n",
            "\n",
            " [[0 0 0]\n",
            "  [0 0 0]\n",
            "  [0 0 0]\n",
            "  ...\n",
            "  [0 0 0]\n",
            "  [0 0 0]\n",
            "  [0 0 0]]], shape=(103, 103, 3), dtype=uint8)\n"
          ]
        }
      ]
    },
    {
      "cell_type": "markdown",
      "source": [
        "#shape=(103, 103, 3)\n",
        "\n",
        "In the context of image data in TensorFlow, the convention is typically (height, width, channels).\n",
        "\n",
        "So, for a tensor representing an image in TensorFlow:\n",
        "\n",
        "The first dimension is the height of the image.\n",
        "The second dimension is the width of the image.\n",
        "The third dimension is the number of channels (e.g., color channels).\n",
        "Therefore, the shape (103, 103, 3) indicates an image with a height of 103 pixels, a width of 103 pixels, and 3 color channels, where each channel corresponds to the Red, Green, and Blue components in that order.\n",
        "\n",
        "If you were dealing with a different convention, such as the channel-first convention used in some other frameworks, the shape might be represented as (3, 103, 103). However, TensorFlow, by default, uses the channel-last convention."
      ],
      "metadata": {
        "id": "NBVufJLzjjfg"
      }
    },
    {
      "cell_type": "markdown",
      "source": [
        "#now lets do splitting"
      ],
      "metadata": {
        "id": "fkHH6XsykYRz"
      }
    },
    {
      "cell_type": "code",
      "source": [
        "train_ratio=0.6\n",
        "val_ratio=0.2\n",
        "test_ratio=0.2"
      ],
      "metadata": {
        "id": "lA-eO-0qjLNn"
      },
      "execution_count": null,
      "outputs": []
    },
    {
      "cell_type": "code",
      "source": [
        "lendataset=len(dataset['train'])\n",
        "lendataset"
      ],
      "metadata": {
        "colab": {
          "base_uri": "https://localhost:8080/"
        },
        "id": "A3yZ3Mk-kqTT",
        "outputId": "7ecc37ab-edec-45e6-c5aa-28c94f58c19f"
      },
      "execution_count": null,
      "outputs": [
        {
          "output_type": "execute_result",
          "data": {
            "text/plain": [
              "27558"
            ]
          },
          "metadata": {},
          "execution_count": 15
        }
      ]
    },
    {
      "cell_type": "code",
      "source": [
        "train_start=0\n",
        "train_end=int(lendataset*0.6)\n",
        "train_end"
      ],
      "metadata": {
        "colab": {
          "base_uri": "https://localhost:8080/"
        },
        "id": "yDuMAPZskwlJ",
        "outputId": "7a54ac00-c5bd-4128-979d-88b041f09cdc"
      },
      "execution_count": null,
      "outputs": [
        {
          "output_type": "execute_result",
          "data": {
            "text/plain": [
              "16534"
            ]
          },
          "metadata": {},
          "execution_count": 16
        }
      ]
    },
    {
      "cell_type": "code",
      "source": [
        "valid_start=train_end\n",
        "valid_end=train_end+int(lendataset*0.2)\n",
        "valid_end"
      ],
      "metadata": {
        "colab": {
          "base_uri": "https://localhost:8080/"
        },
        "id": "79sARKZxoMSW",
        "outputId": "95c88c56-cf60-44b1-a74a-cc099415e00f"
      },
      "execution_count": null,
      "outputs": [
        {
          "output_type": "execute_result",
          "data": {
            "text/plain": [
              "22045"
            ]
          },
          "metadata": {},
          "execution_count": 17
        }
      ]
    },
    {
      "cell_type": "code",
      "source": [
        "test_start=valid_end\n",
        "#last ko exclusive huni vaye ra +1 garya ho\n",
        "# or as last doesnt include so +1\n",
        "#indexing garda last ko value exclusive hunxa so +1\n",
        "test_end=lendataset+1\n",
        "test_end"
      ],
      "metadata": {
        "colab": {
          "base_uri": "https://localhost:8080/"
        },
        "id": "ZQSa_4EAomaW",
        "outputId": "6d28211b-8532-461d-a972-33bc1042ad5b"
      },
      "execution_count": null,
      "outputs": [
        {
          "output_type": "execute_result",
          "data": {
            "text/plain": [
              "27559"
            ]
          },
          "metadata": {},
          "execution_count": 18
        }
      ]
    },
    {
      "cell_type": "code",
      "source": [
        "def splitt(dataset,train_ratio,val_ratio,test_ratio):\n",
        "  lendataset=len(dataset)\n",
        "  train_start=0\n",
        "  train_end=int(lendataset*0.6)\n",
        "  valid_start=train_end\n",
        "  valid_end=train_end+int(lendataset*0.2)\n",
        "  test_start=valid_end\n",
        "  test_end=lendataset+1\n",
        "  train_dataset=dataset[train_start,train_end]\n",
        "  valid_dataset=dataset[valid_start,valid_end]\n",
        "  test_dataset=dataset[test_start,test_end]\n",
        "  return train_dataset,valid_dataset,test_dataset\n",
        "\n",
        "\n"
      ],
      "metadata": {
        "id": "65IdGGq6pStV"
      },
      "execution_count": null,
      "outputs": []
    },
    {
      "cell_type": "code",
      "source": [
        "dataset2=dataset['train']"
      ],
      "metadata": {
        "id": "zTSpC1YZsnrB"
      },
      "execution_count": null,
      "outputs": []
    },
    {
      "cell_type": "code",
      "source": [
        "train_dataset,valid_dataset,test_dataset=splitt(dataset2,0.6,0.2,0.2)"
      ],
      "metadata": {
        "colab": {
          "base_uri": "https://localhost:8080/",
          "height": 318
        },
        "id": "zmYce9yxs65e",
        "outputId": "ff5a7a7f-d6f8-45ed-941d-7f56811a93ab"
      },
      "execution_count": null,
      "outputs": [
        {
          "output_type": "error",
          "ename": "TypeError",
          "evalue": "'_PrefetchDataset' object is not subscriptable",
          "traceback": [
            "\u001b[0;31m---------------------------------------------------------------------------\u001b[0m",
            "\u001b[0;31mTypeError\u001b[0m                                 Traceback (most recent call last)",
            "\u001b[0;32m<ipython-input-21-bd9a05b6a0c6>\u001b[0m in \u001b[0;36m<cell line: 1>\u001b[0;34m()\u001b[0m\n\u001b[0;32m----> 1\u001b[0;31m \u001b[0mtrain_dataset\u001b[0m\u001b[0;34m,\u001b[0m\u001b[0mvalid_dataset\u001b[0m\u001b[0;34m,\u001b[0m\u001b[0mtest_dataset\u001b[0m\u001b[0;34m=\u001b[0m\u001b[0msplitt\u001b[0m\u001b[0;34m(\u001b[0m\u001b[0mdataset2\u001b[0m\u001b[0;34m,\u001b[0m\u001b[0;36m0.6\u001b[0m\u001b[0;34m,\u001b[0m\u001b[0;36m0.2\u001b[0m\u001b[0;34m,\u001b[0m\u001b[0;36m0.2\u001b[0m\u001b[0;34m)\u001b[0m\u001b[0;34m\u001b[0m\u001b[0;34m\u001b[0m\u001b[0m\n\u001b[0m",
            "\u001b[0;32m<ipython-input-19-0029daeef42a>\u001b[0m in \u001b[0;36msplitt\u001b[0;34m(dataset, train_ratio, val_ratio, test_ratio)\u001b[0m\n\u001b[1;32m      7\u001b[0m   \u001b[0mtest_start\u001b[0m\u001b[0;34m=\u001b[0m\u001b[0mvalid_end\u001b[0m\u001b[0;34m\u001b[0m\u001b[0;34m\u001b[0m\u001b[0m\n\u001b[1;32m      8\u001b[0m   \u001b[0mtest_end\u001b[0m\u001b[0;34m=\u001b[0m\u001b[0mlendataset\u001b[0m\u001b[0;34m+\u001b[0m\u001b[0;36m1\u001b[0m\u001b[0;34m\u001b[0m\u001b[0;34m\u001b[0m\u001b[0m\n\u001b[0;32m----> 9\u001b[0;31m   \u001b[0mtrain_dataset\u001b[0m\u001b[0;34m=\u001b[0m\u001b[0mdataset\u001b[0m\u001b[0;34m[\u001b[0m\u001b[0mtrain_start\u001b[0m\u001b[0;34m,\u001b[0m\u001b[0mtrain_end\u001b[0m\u001b[0;34m]\u001b[0m\u001b[0;34m\u001b[0m\u001b[0;34m\u001b[0m\u001b[0m\n\u001b[0m\u001b[1;32m     10\u001b[0m   \u001b[0mvalid_dataset\u001b[0m\u001b[0;34m=\u001b[0m\u001b[0mdataset\u001b[0m\u001b[0;34m[\u001b[0m\u001b[0mvalid_start\u001b[0m\u001b[0;34m,\u001b[0m\u001b[0mvalid_end\u001b[0m\u001b[0;34m]\u001b[0m\u001b[0;34m\u001b[0m\u001b[0;34m\u001b[0m\u001b[0m\n\u001b[1;32m     11\u001b[0m   \u001b[0mtest_dataset\u001b[0m\u001b[0;34m=\u001b[0m\u001b[0mdataset\u001b[0m\u001b[0;34m[\u001b[0m\u001b[0mtest_start\u001b[0m\u001b[0;34m,\u001b[0m\u001b[0mtest_end\u001b[0m\u001b[0;34m]\u001b[0m\u001b[0;34m\u001b[0m\u001b[0;34m\u001b[0m\u001b[0m\n",
            "\u001b[0;31mTypeError\u001b[0m: '_PrefetchDataset' object is not subscriptable"
          ]
        }
      ]
    },
    {
      "cell_type": "markdown",
      "source": [
        "#so dataset haru ma indexing grna mildo raina raixa\n",
        "\n",
        "so use dataset.take(n) elements in dataset\n",
        "and use skipping method\n"
      ],
      "metadata": {
        "id": "UiLGMPhLwD4z"
      }
    },
    {
      "cell_type": "markdown",
      "source": [
        "#skipping method\n",
        "dataset.skip(n) creates a new dataset that skips the first n elements of the original dataset. You can then iterate through or perform other operations on the modified dataset."
      ],
      "metadata": {
        "id": "LzwtyJMVwQ9s"
      }
    },
    {
      "cell_type": "code",
      "source": [
        "k=tf.data.Dataset.range(1,50)\n",
        "n = 10\n",
        "skipped_dataset = k.skip(n)\n",
        "\n",
        "\n",
        "# Now, you can iterate through or perform operations on the modified dataset\n",
        "for element in skipped_dataset:\n",
        "    # Process each element as needed\n",
        "    print(element)\n",
        "#so 11 bata print vako xa 10 oota skip hanae ra"
      ],
      "metadata": {
        "colab": {
          "base_uri": "https://localhost:8080/"
        },
        "id": "UAwAZc5KtQua",
        "outputId": "49179b3d-79c3-42af-9818-215e5efaf790"
      },
      "execution_count": null,
      "outputs": [
        {
          "output_type": "stream",
          "name": "stdout",
          "text": [
            "tf.Tensor(11, shape=(), dtype=int64)\n",
            "tf.Tensor(12, shape=(), dtype=int64)\n",
            "tf.Tensor(13, shape=(), dtype=int64)\n",
            "tf.Tensor(14, shape=(), dtype=int64)\n",
            "tf.Tensor(15, shape=(), dtype=int64)\n",
            "tf.Tensor(16, shape=(), dtype=int64)\n",
            "tf.Tensor(17, shape=(), dtype=int64)\n",
            "tf.Tensor(18, shape=(), dtype=int64)\n",
            "tf.Tensor(19, shape=(), dtype=int64)\n",
            "tf.Tensor(20, shape=(), dtype=int64)\n",
            "tf.Tensor(21, shape=(), dtype=int64)\n",
            "tf.Tensor(22, shape=(), dtype=int64)\n",
            "tf.Tensor(23, shape=(), dtype=int64)\n",
            "tf.Tensor(24, shape=(), dtype=int64)\n",
            "tf.Tensor(25, shape=(), dtype=int64)\n",
            "tf.Tensor(26, shape=(), dtype=int64)\n",
            "tf.Tensor(27, shape=(), dtype=int64)\n",
            "tf.Tensor(28, shape=(), dtype=int64)\n",
            "tf.Tensor(29, shape=(), dtype=int64)\n",
            "tf.Tensor(30, shape=(), dtype=int64)\n",
            "tf.Tensor(31, shape=(), dtype=int64)\n",
            "tf.Tensor(32, shape=(), dtype=int64)\n",
            "tf.Tensor(33, shape=(), dtype=int64)\n",
            "tf.Tensor(34, shape=(), dtype=int64)\n",
            "tf.Tensor(35, shape=(), dtype=int64)\n",
            "tf.Tensor(36, shape=(), dtype=int64)\n",
            "tf.Tensor(37, shape=(), dtype=int64)\n",
            "tf.Tensor(38, shape=(), dtype=int64)\n",
            "tf.Tensor(39, shape=(), dtype=int64)\n",
            "tf.Tensor(40, shape=(), dtype=int64)\n",
            "tf.Tensor(41, shape=(), dtype=int64)\n",
            "tf.Tensor(42, shape=(), dtype=int64)\n",
            "tf.Tensor(43, shape=(), dtype=int64)\n",
            "tf.Tensor(44, shape=(), dtype=int64)\n",
            "tf.Tensor(45, shape=(), dtype=int64)\n",
            "tf.Tensor(46, shape=(), dtype=int64)\n",
            "tf.Tensor(47, shape=(), dtype=int64)\n",
            "tf.Tensor(48, shape=(), dtype=int64)\n",
            "tf.Tensor(49, shape=(), dtype=int64)\n"
          ]
        }
      ]
    },
    {
      "cell_type": "code",
      "source": [
        "def split(dataset,train_ratio,val_ratio,test_ratio):\n",
        "  length_train=int(len(dataset)*train_ratio)\n",
        "  train_dataset=dataset.take(length_train)\n",
        "  skipped_for_valid_dataset=dataset.skip(length_train)\n",
        "  valid_dataset=skipped_for_valid_dataset.take(int(len(dataset)*val_ratio))\n",
        "  skipped_for_test_dataset=dataset.skip(length_train+int(len(dataset)*val_ratio))\n",
        "  test_dataset=skipped_for_test_dataset.take(int(len(dataset)*test_ratio))\n",
        "  return train_dataset,valid_dataset,test_dataset"
      ],
      "metadata": {
        "id": "Ro1f0aFAxOJo"
      },
      "execution_count": null,
      "outputs": []
    },
    {
      "cell_type": "code",
      "source": [
        "dataset3=dataset['train']\n",
        "train_dataset,valid_dataset,test_dataset=split(dataset3,0.6,0.2,0.2)"
      ],
      "metadata": {
        "id": "wwWj5d7N0svh"
      },
      "execution_count": null,
      "outputs": []
    },
    {
      "cell_type": "code",
      "source": [
        "x=len(train_dataset)\n",
        "x"
      ],
      "metadata": {
        "colab": {
          "base_uri": "https://localhost:8080/"
        },
        "id": "K8OmeGDC04Gy",
        "outputId": "38dc9d12-cc1c-4d15-ddcd-f8bc5e4a4cf2"
      },
      "execution_count": null,
      "outputs": [
        {
          "output_type": "execute_result",
          "data": {
            "text/plain": [
              "16534"
            ]
          },
          "metadata": {},
          "execution_count": 25
        }
      ]
    },
    {
      "cell_type": "code",
      "source": [
        "y=len(valid_dataset)\n",
        "y"
      ],
      "metadata": {
        "colab": {
          "base_uri": "https://localhost:8080/"
        },
        "id": "h0pcsi1b0-sS",
        "outputId": "87dbe8f8-0fb6-4e96-8c9e-8450cefb542c"
      },
      "execution_count": null,
      "outputs": [
        {
          "output_type": "execute_result",
          "data": {
            "text/plain": [
              "5511"
            ]
          },
          "metadata": {},
          "execution_count": 26
        }
      ]
    },
    {
      "cell_type": "code",
      "source": [
        "z=len(test_dataset)\n",
        "z"
      ],
      "metadata": {
        "colab": {
          "base_uri": "https://localhost:8080/"
        },
        "id": "wrGa6_t41Bi3",
        "outputId": "f8cc922f-03bf-41a6-9e96-641eb0ac1ce8"
      },
      "execution_count": null,
      "outputs": [
        {
          "output_type": "execute_result",
          "data": {
            "text/plain": [
              "5511"
            ]
          },
          "metadata": {},
          "execution_count": 27
        }
      ]
    },
    {
      "cell_type": "code",
      "source": [
        "x+y+z"
      ],
      "metadata": {
        "colab": {
          "base_uri": "https://localhost:8080/"
        },
        "id": "PdjAdSYj1GZk",
        "outputId": "15d249e1-83c4-44c0-feaa-06c615932044"
      },
      "execution_count": null,
      "outputs": [
        {
          "output_type": "execute_result",
          "data": {
            "text/plain": [
              "27556"
            ]
          },
          "metadata": {},
          "execution_count": 28
        }
      ]
    },
    {
      "cell_type": "code",
      "source": [
        "#3 ta miss vako xa\n",
        "#aaba tellai xodhdim\n",
        "#so upto now form given dataset we have created 3 dataset from given dataset\n",
        "#6:56"
      ],
      "metadata": {
        "id": "kluX0jeK1O1n"
      },
      "execution_count": null,
      "outputs": []
    },
    {
      "cell_type": "markdown",
      "source": [
        "#image visualization\n",
        "using subplot lets plot say 8 images and their labels"
      ],
      "metadata": {
        "id": "DBYzi7A-pnHw"
      }
    },
    {
      "cell_type": "code",
      "source": [
        "for i,(image,label) in enumerate(train_dataset.take(8)):\n",
        "  plt.subplot(2,4,i+1)\n",
        "  plt.imshow(image)\n",
        "  #plt.title(label)\n"
      ],
      "metadata": {
        "id": "Ru-uG5tc3G8C",
        "colab": {
          "base_uri": "https://localhost:8080/",
          "height": 551
        },
        "outputId": "57a372cf-ab18-4c32-9df2-80a2b4b9b355"
      },
      "execution_count": null,
      "outputs": [
        {
          "output_type": "error",
          "ename": "TypeError",
          "evalue": "Image data of dtype <U5 cannot be converted to float",
          "traceback": [
            "\u001b[0;31m---------------------------------------------------------------------------\u001b[0m",
            "\u001b[0;31mTypeError\u001b[0m                                 Traceback (most recent call last)",
            "\u001b[0;32m<ipython-input-30-60693eb4e9fc>\u001b[0m in \u001b[0;36m<cell line: 1>\u001b[0;34m()\u001b[0m\n\u001b[1;32m      1\u001b[0m \u001b[0;32mfor\u001b[0m \u001b[0mi\u001b[0m\u001b[0;34m,\u001b[0m\u001b[0;34m(\u001b[0m\u001b[0mimage\u001b[0m\u001b[0;34m,\u001b[0m\u001b[0mlabel\u001b[0m\u001b[0;34m)\u001b[0m \u001b[0;32min\u001b[0m \u001b[0menumerate\u001b[0m\u001b[0;34m(\u001b[0m\u001b[0mtrain_dataset\u001b[0m\u001b[0;34m.\u001b[0m\u001b[0mtake\u001b[0m\u001b[0;34m(\u001b[0m\u001b[0;36m8\u001b[0m\u001b[0;34m)\u001b[0m\u001b[0;34m)\u001b[0m\u001b[0;34m:\u001b[0m\u001b[0;34m\u001b[0m\u001b[0;34m\u001b[0m\u001b[0m\n\u001b[1;32m      2\u001b[0m   \u001b[0mplt\u001b[0m\u001b[0;34m.\u001b[0m\u001b[0msubplot\u001b[0m\u001b[0;34m(\u001b[0m\u001b[0;36m2\u001b[0m\u001b[0;34m,\u001b[0m\u001b[0;36m4\u001b[0m\u001b[0;34m,\u001b[0m\u001b[0mi\u001b[0m\u001b[0;34m+\u001b[0m\u001b[0;36m1\u001b[0m\u001b[0;34m)\u001b[0m\u001b[0;34m\u001b[0m\u001b[0;34m\u001b[0m\u001b[0m\n\u001b[0;32m----> 3\u001b[0;31m   \u001b[0mplt\u001b[0m\u001b[0;34m.\u001b[0m\u001b[0mimshow\u001b[0m\u001b[0;34m(\u001b[0m\u001b[0mimage\u001b[0m\u001b[0;34m)\u001b[0m\u001b[0;34m\u001b[0m\u001b[0;34m\u001b[0m\u001b[0m\n\u001b[0m\u001b[1;32m      4\u001b[0m   \u001b[0;31m#plt.title(label)\u001b[0m\u001b[0;34m\u001b[0m\u001b[0;34m\u001b[0m\u001b[0m\n",
            "\u001b[0;32m/usr/local/lib/python3.10/dist-packages/matplotlib/pyplot.py\u001b[0m in \u001b[0;36mimshow\u001b[0;34m(X, cmap, norm, aspect, interpolation, alpha, vmin, vmax, origin, extent, interpolation_stage, filternorm, filterrad, resample, url, data, **kwargs)\u001b[0m\n\u001b[1;32m   2693\u001b[0m         \u001b[0minterpolation_stage\u001b[0m\u001b[0;34m=\u001b[0m\u001b[0;32mNone\u001b[0m\u001b[0;34m,\u001b[0m \u001b[0mfilternorm\u001b[0m\u001b[0;34m=\u001b[0m\u001b[0;32mTrue\u001b[0m\u001b[0;34m,\u001b[0m \u001b[0mfilterrad\u001b[0m\u001b[0;34m=\u001b[0m\u001b[0;36m4.0\u001b[0m\u001b[0;34m,\u001b[0m\u001b[0;34m\u001b[0m\u001b[0;34m\u001b[0m\u001b[0m\n\u001b[1;32m   2694\u001b[0m         resample=None, url=None, data=None, **kwargs):\n\u001b[0;32m-> 2695\u001b[0;31m     __ret = gca().imshow(\n\u001b[0m\u001b[1;32m   2696\u001b[0m         \u001b[0mX\u001b[0m\u001b[0;34m,\u001b[0m \u001b[0mcmap\u001b[0m\u001b[0;34m=\u001b[0m\u001b[0mcmap\u001b[0m\u001b[0;34m,\u001b[0m \u001b[0mnorm\u001b[0m\u001b[0;34m=\u001b[0m\u001b[0mnorm\u001b[0m\u001b[0;34m,\u001b[0m \u001b[0maspect\u001b[0m\u001b[0;34m=\u001b[0m\u001b[0maspect\u001b[0m\u001b[0;34m,\u001b[0m\u001b[0;34m\u001b[0m\u001b[0;34m\u001b[0m\u001b[0m\n\u001b[1;32m   2697\u001b[0m         \u001b[0minterpolation\u001b[0m\u001b[0;34m=\u001b[0m\u001b[0minterpolation\u001b[0m\u001b[0;34m,\u001b[0m \u001b[0malpha\u001b[0m\u001b[0;34m=\u001b[0m\u001b[0malpha\u001b[0m\u001b[0;34m,\u001b[0m \u001b[0mvmin\u001b[0m\u001b[0;34m=\u001b[0m\u001b[0mvmin\u001b[0m\u001b[0;34m,\u001b[0m\u001b[0;34m\u001b[0m\u001b[0;34m\u001b[0m\u001b[0m\n",
            "\u001b[0;32m/usr/local/lib/python3.10/dist-packages/matplotlib/__init__.py\u001b[0m in \u001b[0;36minner\u001b[0;34m(ax, data, *args, **kwargs)\u001b[0m\n\u001b[1;32m   1440\u001b[0m     \u001b[0;32mdef\u001b[0m \u001b[0minner\u001b[0m\u001b[0;34m(\u001b[0m\u001b[0max\u001b[0m\u001b[0;34m,\u001b[0m \u001b[0;34m*\u001b[0m\u001b[0margs\u001b[0m\u001b[0;34m,\u001b[0m \u001b[0mdata\u001b[0m\u001b[0;34m=\u001b[0m\u001b[0;32mNone\u001b[0m\u001b[0;34m,\u001b[0m \u001b[0;34m**\u001b[0m\u001b[0mkwargs\u001b[0m\u001b[0;34m)\u001b[0m\u001b[0;34m:\u001b[0m\u001b[0;34m\u001b[0m\u001b[0;34m\u001b[0m\u001b[0m\n\u001b[1;32m   1441\u001b[0m         \u001b[0;32mif\u001b[0m \u001b[0mdata\u001b[0m \u001b[0;32mis\u001b[0m \u001b[0;32mNone\u001b[0m\u001b[0;34m:\u001b[0m\u001b[0;34m\u001b[0m\u001b[0;34m\u001b[0m\u001b[0m\n\u001b[0;32m-> 1442\u001b[0;31m             \u001b[0;32mreturn\u001b[0m \u001b[0mfunc\u001b[0m\u001b[0;34m(\u001b[0m\u001b[0max\u001b[0m\u001b[0;34m,\u001b[0m \u001b[0;34m*\u001b[0m\u001b[0mmap\u001b[0m\u001b[0;34m(\u001b[0m\u001b[0msanitize_sequence\u001b[0m\u001b[0;34m,\u001b[0m \u001b[0margs\u001b[0m\u001b[0;34m)\u001b[0m\u001b[0;34m,\u001b[0m \u001b[0;34m**\u001b[0m\u001b[0mkwargs\u001b[0m\u001b[0;34m)\u001b[0m\u001b[0;34m\u001b[0m\u001b[0;34m\u001b[0m\u001b[0m\n\u001b[0m\u001b[1;32m   1443\u001b[0m \u001b[0;34m\u001b[0m\u001b[0m\n\u001b[1;32m   1444\u001b[0m         \u001b[0mbound\u001b[0m \u001b[0;34m=\u001b[0m \u001b[0mnew_sig\u001b[0m\u001b[0;34m.\u001b[0m\u001b[0mbind\u001b[0m\u001b[0;34m(\u001b[0m\u001b[0max\u001b[0m\u001b[0;34m,\u001b[0m \u001b[0;34m*\u001b[0m\u001b[0margs\u001b[0m\u001b[0;34m,\u001b[0m \u001b[0;34m**\u001b[0m\u001b[0mkwargs\u001b[0m\u001b[0;34m)\u001b[0m\u001b[0;34m\u001b[0m\u001b[0;34m\u001b[0m\u001b[0m\n",
            "\u001b[0;32m/usr/local/lib/python3.10/dist-packages/matplotlib/axes/_axes.py\u001b[0m in \u001b[0;36mimshow\u001b[0;34m(self, X, cmap, norm, aspect, interpolation, alpha, vmin, vmax, origin, extent, interpolation_stage, filternorm, filterrad, resample, url, **kwargs)\u001b[0m\n\u001b[1;32m   5663\u001b[0m                               **kwargs)\n\u001b[1;32m   5664\u001b[0m \u001b[0;34m\u001b[0m\u001b[0m\n\u001b[0;32m-> 5665\u001b[0;31m         \u001b[0mim\u001b[0m\u001b[0;34m.\u001b[0m\u001b[0mset_data\u001b[0m\u001b[0;34m(\u001b[0m\u001b[0mX\u001b[0m\u001b[0;34m)\u001b[0m\u001b[0;34m\u001b[0m\u001b[0;34m\u001b[0m\u001b[0m\n\u001b[0m\u001b[1;32m   5666\u001b[0m         \u001b[0mim\u001b[0m\u001b[0;34m.\u001b[0m\u001b[0mset_alpha\u001b[0m\u001b[0;34m(\u001b[0m\u001b[0malpha\u001b[0m\u001b[0;34m)\u001b[0m\u001b[0;34m\u001b[0m\u001b[0;34m\u001b[0m\u001b[0m\n\u001b[1;32m   5667\u001b[0m         \u001b[0;32mif\u001b[0m \u001b[0mim\u001b[0m\u001b[0;34m.\u001b[0m\u001b[0mget_clip_path\u001b[0m\u001b[0;34m(\u001b[0m\u001b[0;34m)\u001b[0m \u001b[0;32mis\u001b[0m \u001b[0;32mNone\u001b[0m\u001b[0;34m:\u001b[0m\u001b[0;34m\u001b[0m\u001b[0;34m\u001b[0m\u001b[0m\n",
            "\u001b[0;32m/usr/local/lib/python3.10/dist-packages/matplotlib/image.py\u001b[0m in \u001b[0;36mset_data\u001b[0;34m(self, A)\u001b[0m\n\u001b[1;32m    699\u001b[0m         if (self._A.dtype != np.uint8 and\n\u001b[1;32m    700\u001b[0m                 not np.can_cast(self._A.dtype, float, \"same_kind\")):\n\u001b[0;32m--> 701\u001b[0;31m             raise TypeError(\"Image data of dtype {} cannot be converted to \"\n\u001b[0m\u001b[1;32m    702\u001b[0m                             \"float\".format(self._A.dtype))\n\u001b[1;32m    703\u001b[0m \u001b[0;34m\u001b[0m\u001b[0m\n",
            "\u001b[0;31mTypeError\u001b[0m: Image data of dtype <U5 cannot be converted to float"
          ]
        },
        {
          "output_type": "display_data",
          "data": {
            "text/plain": [
              "<Figure size 640x480 with 1 Axes>"
            ],
            "image/png": "[encoded data removed]"
          },
          "metadata": {}
        }
      ]
    },
    {
      "cell_type": "code",
      "source": [
        "type(train_dataset.take(1))"
      ],
      "metadata": {
        "colab": {
          "base_uri": "https://localhost:8080/"
        },
        "id": "j69SABdPq4xk",
        "outputId": "0fe11591-00ac-47af-c06d-80a7b356480d"
      },
      "execution_count": null,
      "outputs": [
        {
          "output_type": "execute_result",
          "data": {
            "text/plain": [
              "tensorflow.python.data.ops.take_op._TakeDataset"
            ]
          },
          "metadata": {},
          "execution_count": 31
        }
      ]
    },
    {
      "cell_type": "code",
      "source": [
        "for element in train_dataset.take(1):\n",
        "  print(type(element))"
      ],
      "metadata": {
        "colab": {
          "base_uri": "https://localhost:8080/"
        },
        "id": "hx3gD1y4r9Iz",
        "outputId": "1dec1da5-cda2-4176-8b26-c0a8a4149ab2"
      },
      "execution_count": null,
      "outputs": [
        {
          "output_type": "stream",
          "name": "stdout",
          "text": [
            "<class 'dict'>\n"
          ]
        }
      ]
    },
    {
      "cell_type": "code",
      "source": [
        "for element in train_dataset.take(1):\n",
        "  print(element.keys())"
      ],
      "metadata": {
        "colab": {
          "base_uri": "https://localhost:8080/"
        },
        "id": "bBUC-H_EsMGE",
        "outputId": "32a45338-9645-47e5-9fe9-f2f8fbfad490"
      },
      "execution_count": null,
      "outputs": [
        {
          "output_type": "stream",
          "name": "stdout",
          "text": [
            "dict_keys(['image', 'label'])\n"
          ]
        }
      ]
    },
    {
      "cell_type": "code",
      "source": [
        "for element in train_dataset.take(1):\n",
        "  print(type(element['image']))"
      ],
      "metadata": {
        "colab": {
          "base_uri": "https://localhost:8080/"
        },
        "id": "Sue1gutOsU8E",
        "outputId": "9de77f27-e441-4bee-d22e-14415095357c"
      },
      "execution_count": null,
      "outputs": [
        {
          "output_type": "stream",
          "name": "stdout",
          "text": [
            "<class 'tensorflow.python.framework.ops.EagerTensor'>\n"
          ]
        }
      ]
    },
    {
      "cell_type": "code",
      "source": [
        "for element in train_dataset.take(1):\n",
        "  print(type(element['image'].numpy()))"
      ],
      "metadata": {
        "colab": {
          "base_uri": "https://localhost:8080/"
        },
        "id": "p2mXCmnCsesc",
        "outputId": "26d13a5c-751d-4e45-ff92-8594c7604dcb"
      },
      "execution_count": null,
      "outputs": [
        {
          "output_type": "stream",
          "name": "stdout",
          "text": [
            "<class 'numpy.ndarray'>\n"
          ]
        }
      ]
    },
    {
      "cell_type": "code",
      "source": [
        "for i,element in enumerate(train_dataset.take(8)):\n",
        "  plt.subplot(2,4,i+1)\n",
        "  plt.imshow(element['image'])\n",
        "  #python does support ternary operator but not like c\n",
        "  #l=element['label']==0?\"uninfected\":\"infected\"\n",
        "  l = \"uninfected\" if element['label'] == 1 else \"infected\"\n",
        "  plt.title(l)\n",
        "  #plt.title(label)"
      ],
      "metadata": {
        "colab": {
          "base_uri": "https://localhost:8080/",
          "height": 424
        },
        "id": "VcpZOopDsj2M",
        "outputId": "551b8caa-4405-4c20-e258-4491eacc0d99"
      },
      "execution_count": null,
      "outputs": [
        {
          "output_type": "display_data",
          "data": {
            "text/plain": [
              "<Figure size 640x480 with 8 Axes>"
            ],
            "image/png": "[encoded data removed]"
          },
          "metadata": {}
        }
      ]
    },
    {
      "cell_type": "markdown",
      "source": [
        "#pre-processsing\n",
        "\n",
        "we going to do\n",
        "\n",
        "1.resizing our image\n",
        "\n",
        "as hamro image ko size yeutai xaina sabbai ko\n",
        "\n",
        "2.Normalization\n",
        "\n",
        "look in my git hub standarization vs normalization\n",
        "7:00:00"
      ],
      "metadata": {
        "id": "SQ7LI58It6jn"
      }
    },
    {
      "cell_type": "markdown",
      "source": [
        "#1.Resizing\n",
        "tf.image.resize\n",
        "\n",
        "\n",
        "Resize images to size using the specified method.\n",
        "\n",
        "\n",
        "    tf.image.resize(\n",
        "        images,\n",
        "        size,\n",
        "        method=ResizeMethod.BILINEAR,\n",
        "        preserve_aspect_ratio=False,\n",
        "        antialias=False,\n",
        "        name=None\n",
        "    )\n",
        "  \n",
        "\n"
      ],
      "metadata": {
        "id": "VPOu6SRfFvU8"
      }
    },
    {
      "cell_type": "code",
      "source": [
        "img_size=224\n",
        "#so creating image of size 224,224\n",
        "def my_resizing_function(dictionary):\n",
        "  return tf.image.resize(dictionary['image'],(img_size,img_size))/255,dictionary['label']\n",
        "  #note here image is normalized as well\n"
      ],
      "metadata": {
        "id": "xGNj76KGLABm"
      },
      "execution_count": null,
      "outputs": []
    },
    {
      "cell_type": "code",
      "source": [
        "type(train_dataset)"
      ],
      "metadata": {
        "colab": {
          "base_uri": "https://localhost:8080/"
        },
        "id": "vTz0ioS2Bb38",
        "outputId": "b38b261f-bbba-4e6d-ff4b-c1d09d4bcf9a"
      },
      "execution_count": null,
      "outputs": [
        {
          "output_type": "execute_result",
          "data": {
            "text/plain": [
              "tensorflow.python.data.ops.take_op._TakeDataset"
            ]
          },
          "metadata": {},
          "execution_count": 39
        }
      ]
    },
    {
      "cell_type": "markdown",
      "source": [
        "#data set ko element access garna man lagae .take(1) gare ra gare ni vayo\n",
        "\n",
        "#or .map(your function garda ni vayo)\n",
        "\n",
        "#uses tyo .take(1) wala value haru herna ko lagi data type herna ko lagi use garnu\n",
        "\n",
        "#.map chai value change garnu paryo vanae\n",
        "as it sends element wise to functions\n",
        "\n",
        "then stacks the return value of the function for different element values"
      ],
      "metadata": {
        "id": "kjiet7JSB4Eu"
      }
    },
    {
      "cell_type": "code",
      "source": [
        "for element in train_dataset.take(1):\n",
        "  print(type(element))"
      ],
      "metadata": {
        "colab": {
          "base_uri": "https://localhost:8080/"
        },
        "id": "OXREbQV2C64n",
        "outputId": "1d4a821b-7c86-4e38-e21e-b358c58af1a1"
      },
      "execution_count": null,
      "outputs": [
        {
          "output_type": "stream",
          "name": "stdout",
          "text": [
            "<class 'dict'>\n"
          ]
        }
      ]
    },
    {
      "cell_type": "code",
      "source": [
        "#we have our data in train_dataset\n",
        "train_dataset=train_dataset.map(my_resizing_function)\n",
        "type(train_dataset)"
      ],
      "metadata": {
        "id": "0wVD08yys3G0",
        "colab": {
          "base_uri": "https://localhost:8080/"
        },
        "outputId": "ecb6e234-8b4e-433c-9d1a-e091b4575cb1"
      },
      "execution_count": null,
      "outputs": [
        {
          "output_type": "execute_result",
          "data": {
            "text/plain": [
              "tensorflow.python.data.ops.map_op._MapDataset"
            ]
          },
          "metadata": {},
          "execution_count": 41
        }
      ]
    },
    {
      "cell_type": "code",
      "source": [
        "for element in train_dataset.take(1):\n",
        "  print(type(element))\n"
      ],
      "metadata": {
        "colab": {
          "base_uri": "https://localhost:8080/"
        },
        "id": "CbAnzBN2L3Qa",
        "outputId": "fb3259dd-1dd0-4f72-9cf5-d9dac9afa249"
      },
      "execution_count": null,
      "outputs": [
        {
          "output_type": "stream",
          "name": "stdout",
          "text": [
            "<class 'tuple'>\n"
          ]
        }
      ]
    },
    {
      "cell_type": "markdown",
      "source": [
        "#note:it has returned tuple\n",
        "tuple vanya chai\n",
        "\n",
        "    mytuple=(1, 'Hello', 3.14)\n",
        "    print(mytuple)\n",
        "    #yedi yeuta index ko print garauni vayae\n",
        "    print(mytuple[1])\n",
        "    #so simply array ko  jastai indexing garni\n",
        "\n",
        "  "
      ],
      "metadata": {
        "id": "534agl7sT9oC"
      }
    },
    {
      "cell_type": "code",
      "source": [
        "for element in train_dataset.take(1):\n",
        "  print(type(element[0]))"
      ],
      "metadata": {
        "colab": {
          "base_uri": "https://localhost:8080/"
        },
        "id": "2rDlSdgSOTCv",
        "outputId": "84476660-bcb8-4ff2-a142-6395b97da6d8"
      },
      "execution_count": null,
      "outputs": [
        {
          "output_type": "stream",
          "name": "stdout",
          "text": [
            "<class 'tensorflow.python.framework.ops.EagerTensor'>\n"
          ]
        }
      ]
    },
    {
      "cell_type": "code",
      "source": [
        "for element in train_dataset.take(1):\n",
        "  print(element[0])"
      ],
      "metadata": {
        "colab": {
          "base_uri": "https://localhost:8080/"
        },
        "id": "6JdX7s5IUxuP",
        "outputId": "a7142a50-1d4e-4074-a8f5-cdb66cb74713"
      },
      "execution_count": null,
      "outputs": [
        {
          "output_type": "stream",
          "name": "stdout",
          "text": [
            "tf.Tensor(\n",
            "[[[0. 0. 0.]\n",
            "  [0. 0. 0.]\n",
            "  [0. 0. 0.]\n",
            "  ...\n",
            "  [0. 0. 0.]\n",
            "  [0. 0. 0.]\n",
            "  [0. 0. 0.]]\n",
            "\n",
            " [[0. 0. 0.]\n",
            "  [0. 0. 0.]\n",
            "  [0. 0. 0.]\n",
            "  ...\n",
            "  [0. 0. 0.]\n",
            "  [0. 0. 0.]\n",
            "  [0. 0. 0.]]\n",
            "\n",
            " [[0. 0. 0.]\n",
            "  [0. 0. 0.]\n",
            "  [0. 0. 0.]\n",
            "  ...\n",
            "  [0. 0. 0.]\n",
            "  [0. 0. 0.]\n",
            "  [0. 0. 0.]]\n",
            "\n",
            " ...\n",
            "\n",
            " [[0. 0. 0.]\n",
            "  [0. 0. 0.]\n",
            "  [0. 0. 0.]\n",
            "  ...\n",
            "  [0. 0. 0.]\n",
            "  [0. 0. 0.]\n",
            "  [0. 0. 0.]]\n",
            "\n",
            " [[0. 0. 0.]\n",
            "  [0. 0. 0.]\n",
            "  [0. 0. 0.]\n",
            "  ...\n",
            "  [0. 0. 0.]\n",
            "  [0. 0. 0.]\n",
            "  [0. 0. 0.]]\n",
            "\n",
            " [[0. 0. 0.]\n",
            "  [0. 0. 0.]\n",
            "  [0. 0. 0.]\n",
            "  ...\n",
            "  [0. 0. 0.]\n",
            "  [0. 0. 0.]\n",
            "  [0. 0. 0.]]], shape=(224, 224, 3), dtype=float32)\n"
          ]
        }
      ]
    },
    {
      "cell_type": "code",
      "source": [
        "#so there it is the resized image of 224,224\n",
        "for element in train_dataset.take(1):\n",
        "  #printing label\n",
        "  print(element[1])"
      ],
      "metadata": {
        "colab": {
          "base_uri": "https://localhost:8080/"
        },
        "id": "tVy39ordU6fu",
        "outputId": "d5077273-dcd8-4e80-cf20-90617044a033"
      },
      "execution_count": null,
      "outputs": [
        {
          "output_type": "stream",
          "name": "stdout",
          "text": [
            "tf.Tensor(1, shape=(), dtype=int64)\n"
          ]
        }
      ]
    },
    {
      "cell_type": "code",
      "source": [
        "train_dataset=train_dataset.shuffle(\n",
        "    buffer_size=8, reshuffle_each_iteration=True,name=None\n",
        ").batch(32).prefetch(tf.data.AUTOTUNE)"
      ],
      "metadata": {
        "id": "oXTUJ33OVHDF"
      },
      "execution_count": null,
      "outputs": []
    },
    {
      "cell_type": "markdown",
      "source": [
        "#implementation of cnns\n"
      ],
      "metadata": {
        "id": "NUsUfBnpZIdN"
      }
    },
    {
      "cell_type": "code",
      "source": [
        "from tensorflow.keras.layers import Conv2D,MaxPool2D,Flatten,Dense,InputLayer"
      ],
      "metadata": {
        "id": "cOfV1MHkZF0g"
      },
      "execution_count": null,
      "outputs": []
    },
    {
      "cell_type": "code",
      "source": [
        "model=tf.keras.Sequential([\n",
        "    InputLayer(input_shape=(img_size,img_size,3)),\n",
        "    Conv2D(filters=6,kernel_size=5,strides=1,padding=\"valid\",activation=\"relu\"),\n",
        "    MaxPool2D(pool_size=2,strides=2),\n",
        "    Conv2D(filters=16,kernel_size=5,strides=1,padding=\"valid\",activation=\"relu\"),\n",
        "    MaxPool2D(pool_size=2,strides=2),\n",
        "    Flatten(),\n",
        "    Dense(1000,activation=\"relu\"),\n",
        "    Dense(100,activation=\"relu\"),\n",
        "    Dense(1,activation=\"sigmoid\")\n",
        "])\n",
        "\n",
        "#note:1 hot encoding garya xaina so output yeuta nide matrai either 0 or 1\n",
        "#if one hot encoding garya vayae chai 2 oota nai last ma node rakhnu parthyo"
      ],
      "metadata": {
        "id": "ALnHvOr5-Ewa"
      },
      "execution_count": null,
      "outputs": []
    },
    {
      "cell_type": "code",
      "source": [
        "model.summary()"
      ],
      "metadata": {
        "colab": {
          "base_uri": "https://localhost:8080/"
        },
        "id": "vRhHW2bQ_7HB",
        "outputId": "0644be41-5c84-4a69-e4c7-ec443ac316b2"
      },
      "execution_count": null,
      "outputs": [
        {
          "output_type": "stream",
          "name": "stdout",
          "text": [
            "Model: \"sequential\"\n",
            "_________________________________________________________________\n",
            " Layer (type)                Output Shape              Param #   \n",
            "=================================================================\n",
            " conv2d (Conv2D)             (None, 220, 220, 6)       456       \n",
            "                                                                 \n",
            " max_pooling2d (MaxPooling2  (None, 110, 110, 6)       0         \n",
            " D)                                                              \n",
            "                                                                 \n",
            " conv2d_1 (Conv2D)           (None, 106, 106, 16)      2416      \n",
            "                                                                 \n",
            " max_pooling2d_1 (MaxPoolin  (None, 53, 53, 16)        0         \n",
            " g2D)                                                            \n",
            "                                                                 \n",
            " flatten (Flatten)           (None, 44944)             0         \n",
            "                                                                 \n",
            " dense (Dense)               (None, 1000)              44945000  \n",
            "                                                                 \n",
            " dense_1 (Dense)             (None, 100)               100100    \n",
            "                                                                 \n",
            " dense_2 (Dense)             (None, 1)                 101       \n",
            "                                                                 \n",
            "=================================================================\n",
            "Total params: 45048073 (171.84 MB)\n",
            "Trainable params: 45048073 (171.84 MB)\n",
            "Non-trainable params: 0 (0.00 Byte)\n",
            "_________________________________________________________________\n"
          ]
        }
      ]
    },
    {
      "cell_type": "markdown",
      "source": [
        "#binary cross entropy loss"
      ],
      "metadata": {
        "id": "qji2zjX6Fc_m"
      }
    },
    {
      "cell_type": "code",
      "source": [
        "y_true=[1]\n",
        "y_pred=[0.1]\n",
        "bce=tf.keras.losses.BinaryCrossentropy()\n",
        "bce(y_true,y_pred)\n"
      ],
      "metadata": {
        "colab": {
          "base_uri": "https://localhost:8080/"
        },
        "id": "FARxop83AVKy",
        "outputId": "fe33b4ac-a862-488f-b76c-be78906b3fc5"
      },
      "execution_count": null,
      "outputs": [
        {
          "output_type": "execute_result",
          "data": {
            "text/plain": [
              "<tf.Tensor: shape=(), dtype=float32, numpy=2.3025842>"
            ]
          },
          "metadata": {},
          "execution_count": 51
        }
      ]
    },
    {
      "cell_type": "code",
      "source": [
        "from tensorflow.keras.losses import BinaryCrossentropy\n",
        "from tensorflow.keras.metrics import RootMeanSquaredError\n",
        "from tensorflow.keras.optimizers import Adam"
      ],
      "metadata": {
        "id": "270wdmHWF14J"
      },
      "execution_count": null,
      "outputs": []
    },
    {
      "cell_type": "code",
      "source": [
        "model.compile(optimizer=Adam(learning_rate=0.1),\n",
        "              loss=BinaryCrossentropy(),\n",
        "              metrics=RootMeanSquaredError())\n"
      ],
      "metadata": {
        "id": "TpAPvwi6HOJL"
      },
      "execution_count": null,
      "outputs": []
    },
    {
      "cell_type": "code",
      "source": [
        "type(valid_dataset)"
      ],
      "metadata": {
        "colab": {
          "base_uri": "https://localhost:8080/"
        },
        "id": "VrtlzV79IpVC",
        "outputId": "a9371b24-5d4a-4997-f672-90f0ec42f55a"
      },
      "execution_count": null,
      "outputs": [
        {
          "output_type": "execute_result",
          "data": {
            "text/plain": [
              "tensorflow.python.data.ops.take_op._TakeDataset"
            ]
          },
          "metadata": {},
          "execution_count": 54
        }
      ]
    },
    {
      "cell_type": "code",
      "source": [
        "history=model.fit(train_dataset,validation_data=valid_dataset,epochs=100,verbose=1)"
      ],
      "metadata": {
        "id": "VJ7C3DifIEr9",
        "colab": {
          "base_uri": "https://localhost:8080/",
          "height": 394
        },
        "outputId": "d96b72a3-fb43-4614-fd99-91e1a1392253"
      },
      "execution_count": null,
      "outputs": [
        {
          "output_type": "stream",
          "name": "stdout",
          "text": [
            "Epoch 1/100\n",
            " 25/517 [>.............................] - ETA: 27s - loss: 15800.8779 - root_mean_squared_error: 0.5753"
          ]
        },
        {
          "output_type": "error",
          "ename": "KeyboardInterrupt",
          "evalue": "",
          "traceback": [
            "\u001b[0;31m---------------------------------------------------------------------------\u001b[0m",
            "\u001b[0;31mKeyboardInterrupt\u001b[0m                         Traceback (most recent call last)",
            "\u001b[0;32m<ipython-input-55-e7c04c27295c>\u001b[0m in \u001b[0;36m<cell line: 1>\u001b[0;34m()\u001b[0m\n\u001b[0;32m----> 1\u001b[0;31m \u001b[0mhistory\u001b[0m\u001b[0;34m=\u001b[0m\u001b[0mmodel\u001b[0m\u001b[0;34m.\u001b[0m\u001b[0mfit\u001b[0m\u001b[0;34m(\u001b[0m\u001b[0mtrain_dataset\u001b[0m\u001b[0;34m,\u001b[0m\u001b[0mvalidation_data\u001b[0m\u001b[0;34m=\u001b[0m\u001b[0mvalid_dataset\u001b[0m\u001b[0;34m,\u001b[0m\u001b[0mepochs\u001b[0m\u001b[0;34m=\u001b[0m\u001b[0;36m100\u001b[0m\u001b[0;34m,\u001b[0m\u001b[0mverbose\u001b[0m\u001b[0;34m=\u001b[0m\u001b[0;36m1\u001b[0m\u001b[0;34m)\u001b[0m\u001b[0;34m\u001b[0m\u001b[0;34m\u001b[0m\u001b[0m\n\u001b[0m",
            "\u001b[0;32m/usr/local/lib/python3.10/dist-packages/keras/src/utils/traceback_utils.py\u001b[0m in \u001b[0;36merror_handler\u001b[0;34m(*args, **kwargs)\u001b[0m\n\u001b[1;32m     63\u001b[0m         \u001b[0mfiltered_tb\u001b[0m \u001b[0;34m=\u001b[0m \u001b[0;32mNone\u001b[0m\u001b[0;34m\u001b[0m\u001b[0;34m\u001b[0m\u001b[0m\n\u001b[1;32m     64\u001b[0m         \u001b[0;32mtry\u001b[0m\u001b[0;34m:\u001b[0m\u001b[0;34m\u001b[0m\u001b[0;34m\u001b[0m\u001b[0m\n\u001b[0;32m---> 65\u001b[0;31m             \u001b[0;32mreturn\u001b[0m \u001b[0mfn\u001b[0m\u001b[0;34m(\u001b[0m\u001b[0;34m*\u001b[0m\u001b[0margs\u001b[0m\u001b[0;34m,\u001b[0m \u001b[0;34m**\u001b[0m\u001b[0mkwargs\u001b[0m\u001b[0;34m)\u001b[0m\u001b[0;34m\u001b[0m\u001b[0;34m\u001b[0m\u001b[0m\n\u001b[0m\u001b[1;32m     66\u001b[0m         \u001b[0;32mexcept\u001b[0m \u001b[0mException\u001b[0m \u001b[0;32mas\u001b[0m \u001b[0me\u001b[0m\u001b[0;34m:\u001b[0m\u001b[0;34m\u001b[0m\u001b[0;34m\u001b[0m\u001b[0m\n\u001b[1;32m     67\u001b[0m             \u001b[0mfiltered_tb\u001b[0m \u001b[0;34m=\u001b[0m \u001b[0m_process_traceback_frames\u001b[0m\u001b[0;34m(\u001b[0m\u001b[0me\u001b[0m\u001b[0;34m.\u001b[0m\u001b[0m__traceback__\u001b[0m\u001b[0;34m)\u001b[0m\u001b[0;34m\u001b[0m\u001b[0;34m\u001b[0m\u001b[0m\n",
            "\u001b[0;32m/usr/local/lib/python3.10/dist-packages/keras/src/engine/training.py\u001b[0m in \u001b[0;36mfit\u001b[0;34m(self, x, y, batch_size, epochs, verbose, callbacks, validation_split, validation_data, shuffle, class_weight, sample_weight, initial_epoch, steps_per_epoch, validation_steps, validation_batch_size, validation_freq, max_queue_size, workers, use_multiprocessing)\u001b[0m\n\u001b[1;32m   1805\u001b[0m                         ):\n\u001b[1;32m   1806\u001b[0m                             \u001b[0mcallbacks\u001b[0m\u001b[0;34m.\u001b[0m\u001b[0mon_train_batch_begin\u001b[0m\u001b[0;34m(\u001b[0m\u001b[0mstep\u001b[0m\u001b[0;34m)\u001b[0m\u001b[0;34m\u001b[0m\u001b[0;34m\u001b[0m\u001b[0m\n\u001b[0;32m-> 1807\u001b[0;31m                             \u001b[0mtmp_logs\u001b[0m \u001b[0;34m=\u001b[0m \u001b[0mself\u001b[0m\u001b[0;34m.\u001b[0m\u001b[0mtrain_function\u001b[0m\u001b[0;34m(\u001b[0m\u001b[0miterator\u001b[0m\u001b[0;34m)\u001b[0m\u001b[0;34m\u001b[0m\u001b[0;34m\u001b[0m\u001b[0m\n\u001b[0m\u001b[1;32m   1808\u001b[0m                             \u001b[0;32mif\u001b[0m \u001b[0mdata_handler\u001b[0m\u001b[0;34m.\u001b[0m\u001b[0mshould_sync\u001b[0m\u001b[0;34m:\u001b[0m\u001b[0;34m\u001b[0m\u001b[0;34m\u001b[0m\u001b[0m\n\u001b[1;32m   1809\u001b[0m                                 \u001b[0mcontext\u001b[0m\u001b[0;34m.\u001b[0m\u001b[0masync_wait\u001b[0m\u001b[0;34m(\u001b[0m\u001b[0;34m)\u001b[0m\u001b[0;34m\u001b[0m\u001b[0;34m\u001b[0m\u001b[0m\n",
            "\u001b[0;32m/usr/local/lib/python3.10/dist-packages/tensorflow/python/util/traceback_utils.py\u001b[0m in \u001b[0;36merror_handler\u001b[0;34m(*args, **kwargs)\u001b[0m\n\u001b[1;32m    148\u001b[0m     \u001b[0mfiltered_tb\u001b[0m \u001b[0;34m=\u001b[0m \u001b[0;32mNone\u001b[0m\u001b[0;34m\u001b[0m\u001b[0;34m\u001b[0m\u001b[0m\n\u001b[1;32m    149\u001b[0m     \u001b[0;32mtry\u001b[0m\u001b[0;34m:\u001b[0m\u001b[0;34m\u001b[0m\u001b[0;34m\u001b[0m\u001b[0m\n\u001b[0;32m--> 150\u001b[0;31m       \u001b[0;32mreturn\u001b[0m \u001b[0mfn\u001b[0m\u001b[0;34m(\u001b[0m\u001b[0;34m*\u001b[0m\u001b[0margs\u001b[0m\u001b[0;34m,\u001b[0m \u001b[0;34m**\u001b[0m\u001b[0mkwargs\u001b[0m\u001b[0;34m)\u001b[0m\u001b[0;34m\u001b[0m\u001b[0;34m\u001b[0m\u001b[0m\n\u001b[0m\u001b[1;32m    151\u001b[0m     \u001b[0;32mexcept\u001b[0m \u001b[0mException\u001b[0m \u001b[0;32mas\u001b[0m \u001b[0me\u001b[0m\u001b[0;34m:\u001b[0m\u001b[0;34m\u001b[0m\u001b[0;34m\u001b[0m\u001b[0m\n\u001b[1;32m    152\u001b[0m       \u001b[0mfiltered_tb\u001b[0m \u001b[0;34m=\u001b[0m \u001b[0m_process_traceback_frames\u001b[0m\u001b[0;34m(\u001b[0m\u001b[0me\u001b[0m\u001b[0;34m.\u001b[0m\u001b[0m__traceback__\u001b[0m\u001b[0;34m)\u001b[0m\u001b[0;34m\u001b[0m\u001b[0;34m\u001b[0m\u001b[0m\n",
            "\u001b[0;32m/usr/local/lib/python3.10/dist-packages/tensorflow/python/eager/polymorphic_function/polymorphic_function.py\u001b[0m in \u001b[0;36m__call__\u001b[0;34m(self, *args, **kwds)\u001b[0m\n\u001b[1;32m    830\u001b[0m \u001b[0;34m\u001b[0m\u001b[0m\n\u001b[1;32m    831\u001b[0m       \u001b[0;32mwith\u001b[0m \u001b[0mOptionalXlaContext\u001b[0m\u001b[0;34m(\u001b[0m\u001b[0mself\u001b[0m\u001b[0;34m.\u001b[0m\u001b[0m_jit_compile\u001b[0m\u001b[0;34m)\u001b[0m\u001b[0;34m:\u001b[0m\u001b[0;34m\u001b[0m\u001b[0;34m\u001b[0m\u001b[0m\n\u001b[0;32m--> 832\u001b[0;31m         \u001b[0mresult\u001b[0m \u001b[0;34m=\u001b[0m \u001b[0mself\u001b[0m\u001b[0;34m.\u001b[0m\u001b[0m_call\u001b[0m\u001b[0;34m(\u001b[0m\u001b[0;34m*\u001b[0m\u001b[0margs\u001b[0m\u001b[0;34m,\u001b[0m \u001b[0;34m**\u001b[0m\u001b[0mkwds\u001b[0m\u001b[0;34m)\u001b[0m\u001b[0;34m\u001b[0m\u001b[0;34m\u001b[0m\u001b[0m\n\u001b[0m\u001b[1;32m    833\u001b[0m \u001b[0;34m\u001b[0m\u001b[0m\n\u001b[1;32m    834\u001b[0m       \u001b[0mnew_tracing_count\u001b[0m \u001b[0;34m=\u001b[0m \u001b[0mself\u001b[0m\u001b[0;34m.\u001b[0m\u001b[0mexperimental_get_tracing_count\u001b[0m\u001b[0;34m(\u001b[0m\u001b[0;34m)\u001b[0m\u001b[0;34m\u001b[0m\u001b[0;34m\u001b[0m\u001b[0m\n",
            "\u001b[0;32m/usr/local/lib/python3.10/dist-packages/tensorflow/python/eager/polymorphic_function/polymorphic_function.py\u001b[0m in \u001b[0;36m_call\u001b[0;34m(self, *args, **kwds)\u001b[0m\n\u001b[1;32m    866\u001b[0m       \u001b[0;31m# In this case we have created variables on the first call, so we run the\u001b[0m\u001b[0;34m\u001b[0m\u001b[0;34m\u001b[0m\u001b[0m\n\u001b[1;32m    867\u001b[0m       \u001b[0;31m# defunned version which is guaranteed to never create variables.\u001b[0m\u001b[0;34m\u001b[0m\u001b[0;34m\u001b[0m\u001b[0m\n\u001b[0;32m--> 868\u001b[0;31m       return tracing_compilation.call_function(\n\u001b[0m\u001b[1;32m    869\u001b[0m           \u001b[0margs\u001b[0m\u001b[0;34m,\u001b[0m \u001b[0mkwds\u001b[0m\u001b[0;34m,\u001b[0m \u001b[0mself\u001b[0m\u001b[0;34m.\u001b[0m\u001b[0m_no_variable_creation_config\u001b[0m\u001b[0;34m\u001b[0m\u001b[0;34m\u001b[0m\u001b[0m\n\u001b[1;32m    870\u001b[0m       )\n",
            "\u001b[0;32m/usr/local/lib/python3.10/dist-packages/tensorflow/python/eager/polymorphic_function/tracing_compilation.py\u001b[0m in \u001b[0;36mcall_function\u001b[0;34m(args, kwargs, tracing_options)\u001b[0m\n\u001b[1;32m    137\u001b[0m   \u001b[0mbound_args\u001b[0m \u001b[0;34m=\u001b[0m \u001b[0mfunction\u001b[0m\u001b[0;34m.\u001b[0m\u001b[0mfunction_type\u001b[0m\u001b[0;34m.\u001b[0m\u001b[0mbind\u001b[0m\u001b[0;34m(\u001b[0m\u001b[0;34m*\u001b[0m\u001b[0margs\u001b[0m\u001b[0;34m,\u001b[0m \u001b[0;34m**\u001b[0m\u001b[0mkwargs\u001b[0m\u001b[0;34m)\u001b[0m\u001b[0;34m\u001b[0m\u001b[0;34m\u001b[0m\u001b[0m\n\u001b[1;32m    138\u001b[0m   \u001b[0mflat_inputs\u001b[0m \u001b[0;34m=\u001b[0m \u001b[0mfunction\u001b[0m\u001b[0;34m.\u001b[0m\u001b[0mfunction_type\u001b[0m\u001b[0;34m.\u001b[0m\u001b[0munpack_inputs\u001b[0m\u001b[0;34m(\u001b[0m\u001b[0mbound_args\u001b[0m\u001b[0;34m)\u001b[0m\u001b[0;34m\u001b[0m\u001b[0;34m\u001b[0m\u001b[0m\n\u001b[0;32m--> 139\u001b[0;31m   return function._call_flat(  # pylint: disable=protected-access\n\u001b[0m\u001b[1;32m    140\u001b[0m       \u001b[0mflat_inputs\u001b[0m\u001b[0;34m,\u001b[0m \u001b[0mcaptured_inputs\u001b[0m\u001b[0;34m=\u001b[0m\u001b[0mfunction\u001b[0m\u001b[0;34m.\u001b[0m\u001b[0mcaptured_inputs\u001b[0m\u001b[0;34m\u001b[0m\u001b[0;34m\u001b[0m\u001b[0m\n\u001b[1;32m    141\u001b[0m   )\n",
            "\u001b[0;32m/usr/local/lib/python3.10/dist-packages/tensorflow/python/eager/polymorphic_function/concrete_function.py\u001b[0m in \u001b[0;36m_call_flat\u001b[0;34m(self, tensor_inputs, captured_inputs)\u001b[0m\n\u001b[1;32m   1321\u001b[0m         and executing_eagerly):\n\u001b[1;32m   1322\u001b[0m       \u001b[0;31m# No tape is watching; skip to running the function.\u001b[0m\u001b[0;34m\u001b[0m\u001b[0;34m\u001b[0m\u001b[0m\n\u001b[0;32m-> 1323\u001b[0;31m       \u001b[0;32mreturn\u001b[0m \u001b[0mself\u001b[0m\u001b[0;34m.\u001b[0m\u001b[0m_inference_function\u001b[0m\u001b[0;34m.\u001b[0m\u001b[0mcall_preflattened\u001b[0m\u001b[0;34m(\u001b[0m\u001b[0margs\u001b[0m\u001b[0;34m)\u001b[0m\u001b[0;34m\u001b[0m\u001b[0;34m\u001b[0m\u001b[0m\n\u001b[0m\u001b[1;32m   1324\u001b[0m     forward_backward = self._select_forward_and_backward_functions(\n\u001b[1;32m   1325\u001b[0m         \u001b[0margs\u001b[0m\u001b[0;34m,\u001b[0m\u001b[0;34m\u001b[0m\u001b[0;34m\u001b[0m\u001b[0m\n",
            "\u001b[0;32m/usr/local/lib/python3.10/dist-packages/tensorflow/python/eager/polymorphic_function/atomic_function.py\u001b[0m in \u001b[0;36mcall_preflattened\u001b[0;34m(self, args)\u001b[0m\n\u001b[1;32m    214\u001b[0m   \u001b[0;32mdef\u001b[0m \u001b[0mcall_preflattened\u001b[0m\u001b[0;34m(\u001b[0m\u001b[0mself\u001b[0m\u001b[0;34m,\u001b[0m \u001b[0margs\u001b[0m\u001b[0;34m:\u001b[0m \u001b[0mSequence\u001b[0m\u001b[0;34m[\u001b[0m\u001b[0mcore\u001b[0m\u001b[0;34m.\u001b[0m\u001b[0mTensor\u001b[0m\u001b[0;34m]\u001b[0m\u001b[0;34m)\u001b[0m \u001b[0;34m->\u001b[0m \u001b[0mAny\u001b[0m\u001b[0;34m:\u001b[0m\u001b[0;34m\u001b[0m\u001b[0;34m\u001b[0m\u001b[0m\n\u001b[1;32m    215\u001b[0m     \u001b[0;34m\"\"\"Calls with flattened tensor inputs and returns the structured output.\"\"\"\u001b[0m\u001b[0;34m\u001b[0m\u001b[0;34m\u001b[0m\u001b[0m\n\u001b[0;32m--> 216\u001b[0;31m     \u001b[0mflat_outputs\u001b[0m \u001b[0;34m=\u001b[0m \u001b[0mself\u001b[0m\u001b[0;34m.\u001b[0m\u001b[0mcall_flat\u001b[0m\u001b[0;34m(\u001b[0m\u001b[0;34m*\u001b[0m\u001b[0margs\u001b[0m\u001b[0;34m)\u001b[0m\u001b[0;34m\u001b[0m\u001b[0;34m\u001b[0m\u001b[0m\n\u001b[0m\u001b[1;32m    217\u001b[0m     \u001b[0;32mreturn\u001b[0m \u001b[0mself\u001b[0m\u001b[0;34m.\u001b[0m\u001b[0mfunction_type\u001b[0m\u001b[0;34m.\u001b[0m\u001b[0mpack_output\u001b[0m\u001b[0;34m(\u001b[0m\u001b[0mflat_outputs\u001b[0m\u001b[0;34m)\u001b[0m\u001b[0;34m\u001b[0m\u001b[0;34m\u001b[0m\u001b[0m\n\u001b[1;32m    218\u001b[0m \u001b[0;34m\u001b[0m\u001b[0m\n",
            "\u001b[0;32m/usr/local/lib/python3.10/dist-packages/tensorflow/python/eager/polymorphic_function/atomic_function.py\u001b[0m in \u001b[0;36mcall_flat\u001b[0;34m(self, *args)\u001b[0m\n\u001b[1;32m    249\u001b[0m         \u001b[0;32mwith\u001b[0m \u001b[0mrecord\u001b[0m\u001b[0;34m.\u001b[0m\u001b[0mstop_recording\u001b[0m\u001b[0;34m(\u001b[0m\u001b[0;34m)\u001b[0m\u001b[0;34m:\u001b[0m\u001b[0;34m\u001b[0m\u001b[0;34m\u001b[0m\u001b[0m\n\u001b[1;32m    250\u001b[0m           \u001b[0;32mif\u001b[0m \u001b[0mself\u001b[0m\u001b[0;34m.\u001b[0m\u001b[0m_bound_context\u001b[0m\u001b[0;34m.\u001b[0m\u001b[0mexecuting_eagerly\u001b[0m\u001b[0;34m(\u001b[0m\u001b[0;34m)\u001b[0m\u001b[0;34m:\u001b[0m\u001b[0;34m\u001b[0m\u001b[0;34m\u001b[0m\u001b[0m\n\u001b[0;32m--> 251\u001b[0;31m             outputs = self._bound_context.call_function(\n\u001b[0m\u001b[1;32m    252\u001b[0m                 \u001b[0mself\u001b[0m\u001b[0;34m.\u001b[0m\u001b[0mname\u001b[0m\u001b[0;34m,\u001b[0m\u001b[0;34m\u001b[0m\u001b[0;34m\u001b[0m\u001b[0m\n\u001b[1;32m    253\u001b[0m                 \u001b[0mlist\u001b[0m\u001b[0;34m(\u001b[0m\u001b[0margs\u001b[0m\u001b[0;34m)\u001b[0m\u001b[0;34m,\u001b[0m\u001b[0;34m\u001b[0m\u001b[0;34m\u001b[0m\u001b[0m\n",
            "\u001b[0;32m/usr/local/lib/python3.10/dist-packages/tensorflow/python/eager/context.py\u001b[0m in \u001b[0;36mcall_function\u001b[0;34m(self, name, tensor_inputs, num_outputs)\u001b[0m\n\u001b[1;32m   1484\u001b[0m     \u001b[0mcancellation_context\u001b[0m \u001b[0;34m=\u001b[0m \u001b[0mcancellation\u001b[0m\u001b[0;34m.\u001b[0m\u001b[0mcontext\u001b[0m\u001b[0;34m(\u001b[0m\u001b[0;34m)\u001b[0m\u001b[0;34m\u001b[0m\u001b[0;34m\u001b[0m\u001b[0m\n\u001b[1;32m   1485\u001b[0m     \u001b[0;32mif\u001b[0m \u001b[0mcancellation_context\u001b[0m \u001b[0;32mis\u001b[0m \u001b[0;32mNone\u001b[0m\u001b[0;34m:\u001b[0m\u001b[0;34m\u001b[0m\u001b[0;34m\u001b[0m\u001b[0m\n\u001b[0;32m-> 1486\u001b[0;31m       outputs = execute.execute(\n\u001b[0m\u001b[1;32m   1487\u001b[0m           \u001b[0mname\u001b[0m\u001b[0;34m.\u001b[0m\u001b[0mdecode\u001b[0m\u001b[0;34m(\u001b[0m\u001b[0;34m\"utf-8\"\u001b[0m\u001b[0;34m)\u001b[0m\u001b[0;34m,\u001b[0m\u001b[0;34m\u001b[0m\u001b[0;34m\u001b[0m\u001b[0m\n\u001b[1;32m   1488\u001b[0m           \u001b[0mnum_outputs\u001b[0m\u001b[0;34m=\u001b[0m\u001b[0mnum_outputs\u001b[0m\u001b[0;34m,\u001b[0m\u001b[0;34m\u001b[0m\u001b[0;34m\u001b[0m\u001b[0m\n",
            "\u001b[0;32m/usr/local/lib/python3.10/dist-packages/tensorflow/python/eager/execute.py\u001b[0m in \u001b[0;36mquick_execute\u001b[0;34m(op_name, num_outputs, inputs, attrs, ctx, name)\u001b[0m\n\u001b[1;32m     51\u001b[0m   \u001b[0;32mtry\u001b[0m\u001b[0;34m:\u001b[0m\u001b[0;34m\u001b[0m\u001b[0;34m\u001b[0m\u001b[0m\n\u001b[1;32m     52\u001b[0m     \u001b[0mctx\u001b[0m\u001b[0;34m.\u001b[0m\u001b[0mensure_initialized\u001b[0m\u001b[0;34m(\u001b[0m\u001b[0;34m)\u001b[0m\u001b[0;34m\u001b[0m\u001b[0;34m\u001b[0m\u001b[0m\n\u001b[0;32m---> 53\u001b[0;31m     tensors = pywrap_tfe.TFE_Py_Execute(ctx._handle, device_name, op_name,\n\u001b[0m\u001b[1;32m     54\u001b[0m                                         inputs, attrs, num_outputs)\n\u001b[1;32m     55\u001b[0m   \u001b[0;32mexcept\u001b[0m \u001b[0mcore\u001b[0m\u001b[0;34m.\u001b[0m\u001b[0m_NotOkStatusException\u001b[0m \u001b[0;32mas\u001b[0m \u001b[0me\u001b[0m\u001b[0;34m:\u001b[0m\u001b[0;34m\u001b[0m\u001b[0;34m\u001b[0m\u001b[0m\n",
            "\u001b[0;31mKeyboardInterrupt\u001b[0m: "
          ]
        }
      ]
    },
    {
      "cell_type": "markdown",
      "source": [
        "1 epoch aauni bttikai error aai ra xa\n",
        "meaning hamro train data bata propagation ta vayo\n",
        "tara validation data ma kei gadbadi xa"
      ],
      "metadata": {
        "id": "5kpw-9U6MQC5"
      }
    },
    {
      "cell_type": "code",
      "source": [
        "train_dataset"
      ],
      "metadata": {
        "colab": {
          "base_uri": "https://localhost:8080/"
        },
        "id": "h_9ZVlPfJM3n",
        "outputId": "33fd3bd2-f654-4f67-ef24-4c6ef3c2a1d2"
      },
      "execution_count": null,
      "outputs": [
        {
          "output_type": "execute_result",
          "data": {
            "text/plain": [
              "<_PrefetchDataset element_spec=(TensorSpec(shape=(None, 224, 224, 3), dtype=tf.float32, name=None), TensorSpec(shape=(None,), dtype=tf.int64, name=None))>"
            ]
          },
          "metadata": {},
          "execution_count": 56
        }
      ]
    },
    {
      "cell_type": "code",
      "source": [
        "valid_dataset"
      ],
      "metadata": {
        "colab": {
          "base_uri": "https://localhost:8080/"
        },
        "id": "srxjiNQRMeVF",
        "outputId": "850e44a6-cb63-4b59-f210-75ed9394d21d"
      },
      "execution_count": null,
      "outputs": [
        {
          "output_type": "execute_result",
          "data": {
            "text/plain": [
              "<_TakeDataset element_spec={'image': TensorSpec(shape=(None, None, 3), dtype=tf.uint8, name=None), 'label': TensorSpec(shape=(), dtype=tf.int64, name=None)}>"
            ]
          },
          "metadata": {},
          "execution_count": 57
        }
      ]
    },
    {
      "cell_type": "markdown",
      "source": [
        "so we can clearly see shape ma farak xa\n",
        "hamlae resize ta gare kai xaina valid dataset lai ta"
      ],
      "metadata": {
        "id": "VEDmqd9xMjGL"
      }
    },
    {
      "cell_type": "markdown",
      "source": [
        "#reshizing the valid_daataset"
      ],
      "metadata": {
        "id": "QcsfFfZBMqwq"
      }
    },
    {
      "cell_type": "code",
      "source": [
        "valid_dataset=valid_dataset.map(my_resizing_function)"
      ],
      "metadata": {
        "id": "hxew8glMMhVp"
      },
      "execution_count": null,
      "outputs": []
    },
    {
      "cell_type": "code",
      "source": [
        "valid_dataset"
      ],
      "metadata": {
        "colab": {
          "base_uri": "https://localhost:8080/"
        },
        "id": "xg9xphbGNMW8",
        "outputId": "256e0e5d-833c-4104-eecc-910ed51ebafd"
      },
      "execution_count": null,
      "outputs": [
        {
          "output_type": "execute_result",
          "data": {
            "text/plain": [
              "<_MapDataset element_spec=(TensorSpec(shape=(224, 224, 3), dtype=tf.float32, name=None), TensorSpec(shape=(), dtype=tf.int64, name=None))>"
            ]
          },
          "metadata": {},
          "execution_count": 59
        }
      ]
    },
    {
      "cell_type": "markdown",
      "source": [
        "also send through pipeline"
      ],
      "metadata": {
        "id": "iLHteoX5NX77"
      }
    },
    {
      "cell_type": "code",
      "source": [
        "valid_dataset=valid_dataset.shuffle(\n",
        "    buffer_size=8, reshuffle_each_iteration=True,name=None\n",
        ").batch(32).prefetch(tf.data.AUTOTUNE)"
      ],
      "metadata": {
        "id": "35EFbrs7NPaH"
      },
      "execution_count": null,
      "outputs": []
    },
    {
      "cell_type": "markdown",
      "source": [
        "# resize  for test dataset for now and we only need to do shuffle and batching for test dataset\n",
        "\n",
        "prefetch yeuta chai garnu pardina"
      ],
      "metadata": {
        "id": "lAewt_zlN6Uh"
      }
    },
    {
      "cell_type": "code",
      "source": [
        "test_dataset=test_dataset.map(my_resizing_function)\n"
      ],
      "metadata": {
        "id": "2cUaSqfkN-om"
      },
      "execution_count": null,
      "outputs": []
    },
    {
      "cell_type": "code",
      "source": [
        "history=model.fit(train_dataset,validation_data=valid_dataset,epochs=100,verbose=1)"
      ],
      "metadata": {
        "id": "WW9dAAs9Omkw"
      },
      "execution_count": null,
      "outputs": []
    },
    {
      "cell_type": "code",
      "source": [
        "# we dont see decresase in loss so we introduce batch hormalization in between the layers as\n",
        "from tensorflow.keras.layers import BatchNormalization\n",
        "model=tf.keras.Sequential([\n",
        "    InputLayer(input_shape=(img_size,img_size,3)),\n",
        "    Conv2D(filters=6,kernel_size=5,strides=1,padding=\"valid\",activation=\"relu\"),\n",
        "    BatchNormalization(),\n",
        "    MaxPool2D(pool_size=2,strides=2),\n",
        "\n",
        "    Conv2D(filters=16,kernel_size=5,strides=1,padding=\"valid\",activation=\"relu\"),\n",
        "    BatchNormalization(),\n",
        "    MaxPool2D(pool_size=2,strides=2),\n",
        "\n",
        "    Flatten(),\n",
        "\n",
        "    Dense(1000,activation=\"relu\"),\n",
        "    BatchNormalization(),\n",
        "\n",
        "    Dense(100,activation=\"relu\"),\n",
        "    BatchNormalization(),\n",
        "\n",
        "    Dense(1,activation=\"sigmoid\")\n",
        "])\n",
        "model.compile(optimizer=Adam(learning_rate=0.1),\n",
        "              loss=BinaryCrossentropy(),\n",
        "              metrics=RootMeanSquaredError())"
      ],
      "metadata": {
        "id": "_zTYE4hgOyCT"
      },
      "execution_count": null,
      "outputs": []
    },
    {
      "cell_type": "markdown",
      "source": [
        "#loss vs metrics\n",
        "loss vanya loss nai vayo\n",
        "metric vanya loss bhayek aaru ni hunxa ni model lai examine garna ko lagi like accuracy,f1 score etc (loss pani parxa parna ta)\n",
        "\n",
        "In the context of training a machine learning model, both loss and metrics are used to evaluate the model's performance, but they serve slightly different purposes.\n",
        "\n",
        "Loss:\n",
        "The loss (or objective) is a single scalar value that represents how well the model is performing on a given batch of training data.\n",
        "The goal during training is to minimize the loss. Lower loss values indicate better agreement between the model's predictions and the actual target values.\n",
        "The loss function is chosen based on the type of task (e.g., mean squared error for regression, categorical crossentropy for classification).\n",
        "\n",
        "\n",
        "Metrics:\n",
        "Metrics are additional quantities used to evaluate the performance of a model but are not used for optimizing the model during training.\n",
        "While the loss function guides the optimization process, metrics provide additional insights into different aspects of model performance.\n",
        "Common metrics include accuracy, precision, recall, F1 score, and others, depending on the type of problem.\n",
        "Metrics are useful for understanding how well the model generalizes to data that it has not seen during training.\n",
        "In TensorFlow's model.compile() function, you can specify both a loss function and a list of metrics. For example:\n",
        "\n",
        "\n",
        "    model.compile(optimizer='adam',\n",
        "                  loss='mean_squared_error',\n",
        "                    # Loss function for training\n",
        "                  metrics=['accuracy', 'mae'])\n",
        "                    # Additional metrics for evaluation\n",
        "In this example, the model is trained to minimize the mean squared error loss, but during training and evaluation, metrics such as accuracy and mean absolute error (mae) are computed and reported. These metrics provide additional information about the model's performance beyond the loss. Keep in mind that the choice of metrics depends on the specific goals and characteristics of your machine learning task."
      ],
      "metadata": {
        "id": "GXNb4hlr3f9d"
      }
    },
    {
      "cell_type": "markdown",
      "source": [
        "#accuracy :\n",
        "\n",
        "    Accuracy=\n",
        "    (Total Number of Predictions/Number of Correct Predictions)\n",
        "​\n"
      ],
      "metadata": {
        "id": "bY7y20eR7okG"
      }
    },
    {
      "cell_type": "code",
      "source": [
        "history=model.fit(train_dataset,validation_data=valid_dataset,epochs=5,verbose=1)"
      ],
      "metadata": {
        "colab": {
          "base_uri": "https://localhost:8080/"
        },
        "id": "Mq1WhyJr2aoo",
        "outputId": "6233f2de-62e0-40a9-e2be-86308953c685"
      },
      "execution_count": null,
      "outputs": [
        {
          "output_type": "stream",
          "name": "stdout",
          "text": [
            "Epoch 1/5\n",
            "517/517 [==============================] - 58s 102ms/step - loss: 0.6647 - root_mean_squared_error: 0.4793 - val_loss: 0.6725 - val_root_mean_squared_error: 0.4777\n",
            "Epoch 2/5\n",
            "517/517 [==============================] - 41s 80ms/step - loss: 0.6441 - root_mean_squared_error: 0.4722 - val_loss: 0.7016 - val_root_mean_squared_error: 0.4972\n",
            "Epoch 3/5\n",
            "517/517 [==============================] - 39s 76ms/step - loss: 0.5211 - root_mean_squared_error: 0.4137 - val_loss: 1.4203 - val_root_mean_squared_error: 0.5343\n",
            "Epoch 4/5\n",
            "517/517 [==============================] - 46s 88ms/step - loss: 0.2342 - root_mean_squared_error: 0.2495 - val_loss: 0.8761 - val_root_mean_squared_error: 0.5716\n",
            "Epoch 5/5\n",
            "517/517 [==============================] - 41s 79ms/step - loss: 0.2079 - root_mean_squared_error: 0.2303 - val_loss: 0.2828 - val_root_mean_squared_error: 0.2680\n"
          ]
        }
      ]
    },
    {
      "cell_type": "code",
      "source": [
        "plt.plot(history.history['loss'])\n",
        "plt.plot(history.history['val_loss'])\n",
        "plt.legend(['train loss','validation loss'])\n",
        "plt.ylabel(\"loss\")\n",
        "plt.xlabel(\"epoch\")\n",
        "plt.show()"
      ],
      "metadata": {
        "id": "RiWQ8BTe2pWm",
        "colab": {
          "base_uri": "https://localhost:8080/",
          "height": 470
        },
        "outputId": "f3051ee1-bdfe-42d8-86f9-56cbf03ccca6"
      },
      "execution_count": null,
      "outputs": [
        {
          "output_type": "display_data",
          "data": {
            "text/plain": [
              "<Figure size 640x480 with 1 Axes>"
            ],
            "image/png": "[encoded data removed]"
          },
          "metadata": {}
        }
      ]
    },
    {
      "cell_type": "markdown",
      "source": [
        "#train dataset lai ni prefetch bhayek aaeu chai garni\n"
      ],
      "metadata": {
        "id": "8N0N30swHuz9"
      }
    },
    {
      "cell_type": "code",
      "source": [
        "test_dataset=test_dataset.batch(32)"
      ],
      "metadata": {
        "id": "uc0cyYrxHuL5"
      },
      "execution_count": null,
      "outputs": []
    },
    {
      "cell_type": "markdown",
      "source": [
        "#lets predict for one value\n",
        "\n",
        "indexing kasto kasto hudo raixa image na pugnu jel samman heram paila"
      ],
      "metadata": {
        "id": "VStoP4D_IiyD"
      }
    },
    {
      "cell_type": "code",
      "source": [
        "test_dataset"
      ],
      "metadata": {
        "colab": {
          "base_uri": "https://localhost:8080/"
        },
        "id": "uAMw3KyVIdMM",
        "outputId": "a6e22ddf-ec3f-4adb-c6da-c22086cbf08b"
      },
      "execution_count": null,
      "outputs": [
        {
          "output_type": "execute_result",
          "data": {
            "text/plain": [
              "<_BatchDataset element_spec=(TensorSpec(shape=(None, 224, 224, 3), dtype=tf.float32, name=None), TensorSpec(shape=(None,), dtype=tf.int64, name=None))>"
            ]
          },
          "metadata": {},
          "execution_count": 66
        }
      ]
    },
    {
      "cell_type": "markdown",
      "source": [
        "#shape=(None, 224, 224, 3)\n",
        "\n",
        "tyo aagadi ko none batching gare paxi aauxa"
      ],
      "metadata": {
        "id": "50ppvB6XKO2X"
      }
    },
    {
      "cell_type": "code",
      "source": [
        "for element in test_dataset.take(1):\n",
        "  print(type(element))\n",
        "  images=element[0]"
      ],
      "metadata": {
        "colab": {
          "base_uri": "https://localhost:8080/"
        },
        "id": "cc5ENXiSIX4E",
        "outputId": "19919725-ad21-4538-d3c8-79f881a666a1"
      },
      "execution_count": null,
      "outputs": [
        {
          "output_type": "stream",
          "name": "stdout",
          "text": [
            "<class 'tuple'>\n"
          ]
        }
      ]
    },
    {
      "cell_type": "code",
      "source": [
        "type(images)"
      ],
      "metadata": {
        "colab": {
          "base_uri": "https://localhost:8080/"
        },
        "id": "xKnEKOK8P6cc",
        "outputId": "70140462-7fdd-465d-e38b-aa9c72ad7558"
      },
      "execution_count": null,
      "outputs": [
        {
          "output_type": "execute_result",
          "data": {
            "text/plain": [
              "tensorflow.python.framework.ops.EagerTensor"
            ]
          },
          "metadata": {},
          "execution_count": 75
        }
      ]
    },
    {
      "cell_type": "code",
      "source": [
        "images.shape"
      ],
      "metadata": {
        "colab": {
          "base_uri": "https://localhost:8080/"
        },
        "id": "y8SXz1h5QANr",
        "outputId": "242d325c-2127-40a3-a1bc-be8f5810283a"
      },
      "execution_count": null,
      "outputs": [
        {
          "output_type": "execute_result",
          "data": {
            "text/plain": [
              "TensorShape([32, 224, 224, 3])"
            ]
          },
          "metadata": {},
          "execution_count": 79
        }
      ]
    },
    {
      "cell_type": "markdown",
      "source": [
        "here 32,224,224,3\n",
        "\n",
        "hamlae batching garya vaye ra yesto vako\n",
        "batching na gare ko dataset .take(1)\n",
        "garyo vanae ta yeuta image matrai aauxa\n",
        "as hamlae batching garya xau so .take(1) garda first ko batch chai aauxa\n",
        "\n",
        "so tyo batch bata ni first ko select garnu paryo"
      ],
      "metadata": {
        "id": "8hjwRaqyQhqE"
      }
    },
    {
      "cell_type": "code",
      "source": [
        "single_img=images[0]"
      ],
      "metadata": {
        "id": "rgUiMH-VKgfa"
      },
      "execution_count": null,
      "outputs": []
    },
    {
      "cell_type": "code",
      "source": [
        "single_img.shape"
      ],
      "metadata": {
        "colab": {
          "base_uri": "https://localhost:8080/"
        },
        "id": "rmfALBcUK7CB",
        "outputId": "302ff2d8-7c76-4fcc-97f3-b3fed9f49038"
      },
      "execution_count": null,
      "outputs": [
        {
          "output_type": "execute_result",
          "data": {
            "text/plain": [
              "TensorShape([224, 224, 3])"
            ]
          },
          "metadata": {},
          "execution_count": 81
        }
      ]
    },
    {
      "cell_type": "code",
      "source": [
        "single_img"
      ],
      "metadata": {
        "colab": {
          "base_uri": "https://localhost:8080/"
        },
        "id": "F9YSMgKhRnlZ",
        "outputId": "05218101-f157-46d8-83ce-a237f41d94a2"
      },
      "execution_count": null,
      "outputs": [
        {
          "output_type": "execute_result",
          "data": {
            "text/plain": [
              "<tf.Tensor: shape=(224, 224, 3), dtype=float32, numpy=\n",
              "array([[[0., 0., 0.],\n",
              "        [0., 0., 0.],\n",
              "        [0., 0., 0.],\n",
              "        ...,\n",
              "        [0., 0., 0.],\n",
              "        [0., 0., 0.],\n",
              "        [0., 0., 0.]],\n",
              "\n",
              "       [[0., 0., 0.],\n",
              "        [0., 0., 0.],\n",
              "        [0., 0., 0.],\n",
              "        ...,\n",
              "        [0., 0., 0.],\n",
              "        [0., 0., 0.],\n",
              "        [0., 0., 0.]],\n",
              "\n",
              "       [[0., 0., 0.],\n",
              "        [0., 0., 0.],\n",
              "        [0., 0., 0.],\n",
              "        ...,\n",
              "        [0., 0., 0.],\n",
              "        [0., 0., 0.],\n",
              "        [0., 0., 0.]],\n",
              "\n",
              "       ...,\n",
              "\n",
              "       [[0., 0., 0.],\n",
              "        [0., 0., 0.],\n",
              "        [0., 0., 0.],\n",
              "        ...,\n",
              "        [0., 0., 0.],\n",
              "        [0., 0., 0.],\n",
              "        [0., 0., 0.]],\n",
              "\n",
              "       [[0., 0., 0.],\n",
              "        [0., 0., 0.],\n",
              "        [0., 0., 0.],\n",
              "        ...,\n",
              "        [0., 0., 0.],\n",
              "        [0., 0., 0.],\n",
              "        [0., 0., 0.]],\n",
              "\n",
              "       [[0., 0., 0.],\n",
              "        [0., 0., 0.],\n",
              "        [0., 0., 0.],\n",
              "        ...,\n",
              "        [0., 0., 0.],\n",
              "        [0., 0., 0.],\n",
              "        [0., 0., 0.]]], dtype=float32)>"
            ]
          },
          "metadata": {},
          "execution_count": 83
        }
      ]
    },
    {
      "cell_type": "code",
      "source": [
        "#note hamro input layer lae none,224,224,3 none= simply batch size\n",
        "#wala shape linxa tara hamle single image dini ho vanae  224,224,3\n",
        "#matra hunxa so valid hunna\n",
        "#so dina chai first batch nai dini\n",
        "#aani first batch ko predicttion herni\n",
        "#tesko first result vanae ko 1st image ko lagi prediction hunxa\n"
      ],
      "metadata": {
        "id": "Ya27FMX0TR60"
      },
      "execution_count": null,
      "outputs": []
    },
    {
      "cell_type": "code",
      "source": [
        "values=model.predict(train_dataset.take(1))\n",
        "values"
      ],
      "metadata": {
        "colab": {
          "base_uri": "https://localhost:8080/"
        },
        "id": "1xqS-1lFUl1T",
        "outputId": "b235a55d-320a-4ebe-eb8d-c76be4199c01"
      },
      "execution_count": null,
      "outputs": [
        {
          "output_type": "stream",
          "name": "stdout",
          "text": [
            "1/1 [==============================] - 0s 367ms/step\n"
          ]
        },
        {
          "output_type": "execute_result",
          "data": {
            "text/plain": [
              "array([[8.1292558e-01],\n",
              "       [3.4702488e-03],\n",
              "       [3.0702660e-03],\n",
              "       [3.4268230e-04],\n",
              "       [6.1266118e-01],\n",
              "       [8.8696164e-01],\n",
              "       [8.8104254e-01],\n",
              "       [8.7806571e-01],\n",
              "       [6.3187003e-01],\n",
              "       [9.5792804e-03],\n",
              "       [1.2563464e-03],\n",
              "       [8.4461498e-01],\n",
              "       [9.1800803e-01],\n",
              "       [5.8591992e-01],\n",
              "       [6.7079395e-02],\n",
              "       [9.0097910e-01],\n",
              "       [8.5281783e-01],\n",
              "       [1.4022413e-03],\n",
              "       [8.6924213e-01],\n",
              "       [4.7399420e-03],\n",
              "       [8.1736612e-01],\n",
              "       [9.2161036e-01],\n",
              "       [3.0143157e-02],\n",
              "       [3.1898722e-02],\n",
              "       [1.0514952e-03],\n",
              "       [7.5698522e-04],\n",
              "       [9.5566094e-04],\n",
              "       [1.0969790e-02],\n",
              "       [3.2104639e-04],\n",
              "       [5.5411778e-04],\n",
              "       [8.4254372e-01],\n",
              "       [8.2043153e-01]], dtype=float32)"
            ]
          },
          "metadata": {},
          "execution_count": 98
        }
      ]
    },
    {
      "cell_type": "code",
      "source": [
        "type(values)"
      ],
      "metadata": {
        "colab": {
          "base_uri": "https://localhost:8080/"
        },
        "id": "D0OWGi9pUqGJ",
        "outputId": "557c9762-7403-4e69-d85d-5adc2c6b1ca7"
      },
      "execution_count": null,
      "outputs": [
        {
          "output_type": "execute_result",
          "data": {
            "text/plain": [
              "numpy.ndarray"
            ]
          },
          "metadata": {},
          "execution_count": 99
        }
      ]
    },
    {
      "cell_type": "code",
      "source": [
        "#so lets grab the first element\n",
        "first_prediction=values[0,0]"
      ],
      "metadata": {
        "id": "dBffIo3AU1DL"
      },
      "execution_count": null,
      "outputs": []
    },
    {
      "cell_type": "code",
      "source": [
        "first_prediction"
      ],
      "metadata": {
        "colab": {
          "base_uri": "https://localhost:8080/"
        },
        "id": "FKU7CA3qVXGo",
        "outputId": "dada12de-b7d0-4652-8d65-20b9a909db56"
      },
      "execution_count": null,
      "outputs": [
        {
          "output_type": "execute_result",
          "data": {
            "text/plain": [
              "0.8129256"
            ]
          },
          "metadata": {},
          "execution_count": 101
        }
      ]
    },
    {
      "cell_type": "code",
      "source": [
        "def result_show(k):\n",
        "  if k<0.5:\n",
        "    print(\"you are not malerized\")\n",
        "  else:\n",
        "    print(\"you got maleria\")\n"
      ],
      "metadata": {
        "id": "n_KA0MmPVZ7U"
      },
      "execution_count": null,
      "outputs": []
    },
    {
      "cell_type": "code",
      "source": [
        "result_show(first_prediction)"
      ],
      "metadata": {
        "colab": {
          "base_uri": "https://localhost:8080/"
        },
        "id": "-cAUNpeHVzgj",
        "outputId": "b0d2ca9b-fae1-43df-e6f7-cda0a20b4630"
      },
      "execution_count": null,
      "outputs": [
        {
          "output_type": "stream",
          "name": "stdout",
          "text": [
            "you got maleria\n"
          ]
        }
      ]
    },
    {
      "cell_type": "markdown",
      "source": [
        "#yedi single imagepathauni ho vanae shape\n",
        "(1,224,224,3)\n",
        "where none/batch=1\n",
        "\n",
        "yesari dinu parxa\n",
        "224,224,3 matrai diyae ra hunna\n"
      ],
      "metadata": {
        "id": "BVVMNHBuWaFq"
      }
    },
    {
      "cell_type": "code",
      "source": [
        "single_image_batch = np.expand_dims(single_img, axis=0)\n",
        "single_image_batch.shape"
      ],
      "metadata": {
        "colab": {
          "base_uri": "https://localhost:8080/"
        },
        "id": "hOSAWlO6V3gz",
        "outputId": "44250ac1-c1fd-4981-d268-b54009a6c7f9"
      },
      "execution_count": null,
      "outputs": [
        {
          "output_type": "execute_result",
          "data": {
            "text/plain": [
              "(1, 224, 224, 3)"
            ]
          },
          "metadata": {},
          "execution_count": 105
        }
      ]
    },
    {
      "cell_type": "code",
      "source": [
        "model.predict(single_image_batch)"
      ],
      "metadata": {
        "colab": {
          "base_uri": "https://localhost:8080/"
        },
        "id": "28BHi2vNW3lW",
        "outputId": "58ca2d2a-0eb7-48e1-ae31-a92c6a4eafa6"
      },
      "execution_count": null,
      "outputs": [
        {
          "output_type": "stream",
          "name": "stdout",
          "text": [
            "1/1 [==============================] - 0s 130ms/step\n"
          ]
        },
        {
          "output_type": "execute_result",
          "data": {
            "text/plain": [
              "array([[0.09309733]], dtype=float32)"
            ]
          },
          "metadata": {},
          "execution_count": 106
        }
      ]
    },
    {
      "cell_type": "markdown",
      "source": [
        "tyo aagadi none,224,224,3\n",
        "\n",
        "vannu ko matlab aagadi batch size jati sukai ko deu kunai fixed no xaina\n",
        "tara last ko 3 oota chai tyakkai milnu parxa\n"
      ],
      "metadata": {
        "id": "40OCWZhIXwlH"
      }
    },
    {
      "cell_type": "code",
      "source": [],
      "metadata": {
        "id": "IMaiJ6hbW-Lm"
      },
      "execution_count": null,
      "outputs": []
    }
  ]
}